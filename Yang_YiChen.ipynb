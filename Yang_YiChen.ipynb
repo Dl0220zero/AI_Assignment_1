{
  "nbformat": 4,
  "nbformat_minor": 0,
  "metadata": {
    "colab": {
      "provenance": []
    },
    "kernelspec": {
      "name": "python3",
      "display_name": "Python 3"
    },
    "language_info": {
      "name": "python"
    },
    "gpuClass": "standard"
  },
  "cells": [
    {
      "cell_type": "markdown",
      "source": [
        "# Tutorial and Sample Code for Balancing a Pole on a Cart"
      ],
      "metadata": {
        "id": "ZauhjPSfX7pI"
      }
    },
    {
      "cell_type": "markdown",
      "source": [
        "# Parts before developing the agent are from the the step by step tutorial from https://github.com/yue-zhongqi/cartpole_colab\n",
        "\n",
        "# Executed on **Google Colab Linux Virtual Machine**.\n",
        "\n",
        "# **Tested to execute on windows and mac jupyter notebook, but there were compatibility issues with quite a number of things(The issue on rendering of the environment and also mismatch of dimensions of tuple and arrays). Even when I debugged all the dimension issues, the learning is stuck at 0/300 for almost an hour, which indicates some form of problem since in Colab it takes ~1second for each episode. After some research, I excluded other possibilities and concluded that it may be due to some incompatibility issue.** \n",
        "\n",
        "# **Since the gym environment is designed to run on linux, it may not be executable under mac/windows jupyter notebook. Please upload to google colab to execute/use linux environment to execute.**\n"
      ],
      "metadata": {
        "id": "LBJx9lSpgQBx"
      }
    },
    {
      "cell_type": "markdown",
      "source": [
        "Done by Yang Yichen, Matriculation number U2121540A, Tutorial group A54\n",
        "\n",
        "\n"
      ],
      "metadata": {
        "id": "XTOucg31iGzc"
      }
    },
    {
      "cell_type": "markdown",
      "source": [],
      "metadata": {
        "id": "rqRNY6c6pTjR"
      }
    },
    {
      "cell_type": "markdown",
      "source": [
        "## Installing dependencies:"
      ],
      "metadata": {
        "id": "UBiYOoesYMvr"
      }
    },
    {
      "cell_type": "markdown",
      "source": [],
      "metadata": {
        "id": "vgQd4GPJo7io"
      }
    },
    {
      "cell_type": "markdown",
      "source": [],
      "metadata": {
        "id": "yK5VzwI1RIgh"
      }
    },
    {
      "cell_type": "code",
      "execution_count": 1,
      "metadata": {
        "colab": {
          "base_uri": "https://localhost:8080/"
        },
        "id": "PbgnVwZmX5uW",
        "outputId": "88e0ae7b-cac7-4427-9f99-5bf8a0ec947c"
      },
      "outputs": [
        {
          "output_type": "stream",
          "name": "stdout",
          "text": [
            "Looking in indexes: https://pypi.org/simple, https://us-python.pkg.dev/colab-wheels/public/simple/\n",
            "Requirement already satisfied: gym[classic_control] in /usr/local/lib/python3.9/dist-packages (0.25.2)\n",
            "Requirement already satisfied: numpy>=1.18.0 in /usr/local/lib/python3.9/dist-packages (from gym[classic_control]) (1.22.4)\n",
            "Requirement already satisfied: cloudpickle>=1.2.0 in /usr/local/lib/python3.9/dist-packages (from gym[classic_control]) (2.2.1)\n",
            "Requirement already satisfied: importlib-metadata>=4.8.0 in /usr/local/lib/python3.9/dist-packages (from gym[classic_control]) (6.0.0)\n",
            "Requirement already satisfied: gym-notices>=0.0.4 in /usr/local/lib/python3.9/dist-packages (from gym[classic_control]) (0.0.8)\n",
            "Requirement already satisfied: pygame==2.1.0 in /usr/local/lib/python3.9/dist-packages (from gym[classic_control]) (2.1.0)\n",
            "Requirement already satisfied: zipp>=0.5 in /usr/local/lib/python3.9/dist-packages (from importlib-metadata>=4.8.0->gym[classic_control]) (3.15.0)\n",
            "Looking in indexes: https://pypi.org/simple, https://us-python.pkg.dev/colab-wheels/public/simple/\n",
            "Requirement already satisfied: setuptools in /usr/local/lib/python3.9/dist-packages (67.6.0)\n"
          ]
        }
      ],
      "source": [
        "!apt-get install -y xvfb python-opengl > /dev/null 2>&1\n",
        "!pip install gym pyvirtualdisplay > /dev/null 2>&1\n",
        "!pip install gym pyvirtualdisplay > /dev/null 2>&1\n",
        "!apt-get install -y xvfb python-opengl ffmpeg > /dev/null 2>&1\n",
        "!pip install gym[classic_control]\n",
        "!apt-get update > /dev/null 2>&1\n",
        "!apt-get install cmake > /dev/null 2>&1\n",
        "!pip install --upgrade setuptools 2>&1\n",
        "!pip install ez_setup > /dev/null 2>&1"
      ]
    },
    {
      "cell_type": "markdown",
      "source": [
        "## Importing dependencies and define helper functions"
      ],
      "metadata": {
        "id": "RwKbYeTgbaTA"
      }
    },
    {
      "cell_type": "code",
      "source": [
        "import gym\n",
        "from gym import logger as gymlogger\n",
        "from gym.wrappers import RecordVideo\n",
        "gymlogger.set_level(40) #error only\n",
        "import tensorflow as tf\n",
        "import numpy as np\n",
        "import random\n",
        "import matplotlib\n",
        "import matplotlib.pyplot as plt\n",
        "%matplotlib inline\n",
        "import math\n",
        "import glob\n",
        "import io\n",
        "import base64\n",
        "from IPython.display import HTML\n",
        "from IPython import display as ipythondisplay\n",
        "\n",
        "def show_video():\n",
        "  mp4list = glob.glob('video/*.mp4')\n",
        "  if len(mp4list) > 0:\n",
        "    mp4 = mp4list[0]\n",
        "    video = io.open(mp4, 'r+b').read()\n",
        "    encoded = base64.b64encode(video)\n",
        "    ipythondisplay.display(HTML(data='''<video alt=\"test\" autoplay \n",
        "                loop controls style=\"height: 400px;\">\n",
        "                <source src=\"data:video/mp4;base64,{0}\" type=\"video/mp4\" />\n",
        "             </video>'''.format(encoded.decode('ascii'))))\n",
        "  else: \n",
        "    print(\"Could not find video\")"
      ],
      "metadata": {
        "id": "j6KpgCLGYWmj"
      },
      "execution_count": 2,
      "outputs": []
    },
    {
      "cell_type": "markdown",
      "source": [
        "## Tutorial: Loading CartPole environment"
      ],
      "metadata": {
        "id": "ehbqP9CXbmo7"
      }
    },
    {
      "cell_type": "code",
      "source": [
        "env = gym.make(\"CartPole-v1\")"
      ],
      "metadata": {
        "id": "Go12dH4qbwBy"
      },
      "execution_count": 3,
      "outputs": []
    },
    {
      "cell_type": "markdown",
      "source": [
        "We can check the action and observation space of this environment. Discrete(2) means that there are two valid discrete actions: 0 & 1."
      ],
      "metadata": {
        "id": "9XZ9g3xrcAXE"
      }
    },
    {
      "cell_type": "code",
      "source": [
        "print(env.action_space)"
      ],
      "metadata": {
        "colab": {
          "base_uri": "https://localhost:8080/"
        },
        "id": "ytxvVmLdcRyw",
        "outputId": "728439cd-3e37-4533-c91d-3208e08dca6e"
      },
      "execution_count": 4,
      "outputs": [
        {
          "output_type": "stream",
          "name": "stdout",
          "text": [
            "Discrete(2)\n"
          ]
        }
      ]
    },
    {
      "cell_type": "markdown",
      "source": [
        "The observation space is given below. The first two arrays define the min and max values of the 4 observed values, corresponding to cart position, velocity and pole angle, angular velocity."
      ],
      "metadata": {
        "id": "pVXGWi_Ncfg-"
      }
    },
    {
      "cell_type": "code",
      "source": [
        "print(env.observation_space)"
      ],
      "metadata": {
        "colab": {
          "base_uri": "https://localhost:8080/"
        },
        "id": "DyqHr9I5cdkX",
        "outputId": "9d8a1b01-71fd-4133-c766-d864cb707a8c"
      },
      "execution_count": 5,
      "outputs": [
        {
          "output_type": "stream",
          "name": "stdout",
          "text": [
            "Box([-4.8000002e+00 -3.4028235e+38 -4.1887903e-01 -3.4028235e+38], [4.8000002e+00 3.4028235e+38 4.1887903e-01 3.4028235e+38], (4,), float32)\n"
          ]
        }
      ]
    },
    {
      "cell_type": "markdown",
      "source": [
        "We call each round of the pole-balancing game an \"episode\". At the start of each episode, make sure the environment is reset, which chooses a random initial state, e.g., pole slightly tilted to the right. This initialization can be achieved by the code below, which returns the observation of the initial state."
      ],
      "metadata": {
        "id": "HFOdaU2Gdyg0"
      }
    },
    {
      "cell_type": "code",
      "source": [
        "observation = env.reset()\n",
        "print(\"Initial observations:\", observation)"
      ],
      "metadata": {
        "colab": {
          "base_uri": "https://localhost:8080/"
        },
        "id": "VMr6qAqxdOsm",
        "outputId": "01993b07-d8da-4d82-a726-57e75a710509"
      },
      "execution_count": 6,
      "outputs": [
        {
          "output_type": "stream",
          "name": "stdout",
          "text": [
            "Initial observations: [ 0.03242755 -0.02902926 -0.02734198  0.03120555]\n"
          ]
        }
      ]
    },
    {
      "cell_type": "markdown",
      "source": [
        "For the CartPole environment, there are two possible actions: 0 for pushing to the left and 1 for pushing to the right. For example, we can push the cart to the left using code below, which returns the new observation, the current reward, an indicator of whether the game ends, and some additional information (not used in this project). For CartPole, the game ends when the pole is significantly tilted or you manage to balance the pole for 500 steps. You get exactly 1 reward for each step before the game ends (i.e., max cumulative reward is 500)."
      ],
      "metadata": {
        "id": "qnG2QdfbeZrI"
      }
    },
    {
      "cell_type": "code",
      "source": [
        "observation, reward, done, info = env.step(0)\n",
        "print(\"New observations after choosing action 0:\", observation)\n",
        "print(\"Reward for this step:\", reward)\n",
        "print(\"Is this round done?\", done)"
      ],
      "metadata": {
        "colab": {
          "base_uri": "https://localhost:8080/"
        },
        "id": "MmfMDvyYdWGk",
        "outputId": "2598284a-5b81-45db-ca91-f06dccb319ff"
      },
      "execution_count": 7,
      "outputs": [
        {
          "output_type": "stream",
          "name": "stdout",
          "text": [
            "New observations after choosing action 0: [ 0.03184696 -0.22374865 -0.02671787  0.31513795]\n",
            "Reward for this step: 1.0\n",
            "Is this round done? False\n"
          ]
        }
      ]
    },
    {
      "cell_type": "markdown",
      "source": [
        "Now we can play a full round of the game using a naive strategy (always choosing action 0), and show the cumulative reward in the round. Note that reward returned by env.step(*) corresponds to the reward for current step. So we have to accumulate the reward for each step. Clearly, the naive strategy performs poorly by surviving only a dozen of steps."
      ],
      "metadata": {
        "id": "tj0zCh59fhBb"
      }
    },
    {
      "cell_type": "code",
      "source": [
        "observation = env.reset()\n",
        "cumulative_reward = 0\n",
        "done = False\n",
        "while not done:\n",
        "    observation, reward, done, info = env.step(0)\n",
        "    cumulative_reward += reward\n",
        "print(\"Cumulative reward for this round:\", cumulative_reward)\n",
        "env.close()"
      ],
      "metadata": {
        "colab": {
          "base_uri": "https://localhost:8080/"
        },
        "id": "AVucQVRwf6Jm",
        "outputId": "18eb7f96-113f-42a1-d6c9-8798b8ceb353"
      },
      "execution_count": 8,
      "outputs": [
        {
          "output_type": "stream",
          "name": "stdout",
          "text": [
            "Cumulative reward for this round: 10.0\n"
          ]
        }
      ]
    },
    {
      "cell_type": "markdown",
      "source": [
        "## Task 1: Development of an RL agent"
      ],
      "metadata": {
        "id": "2oIzK9SzhlWN"
      }
    },
    {
      "cell_type": "markdown",
      "source": [
        "After attempting to use a traditional DQN agent, I realised it is not performing very well both in the score and the memory, the capacity of the collab memory supports up to 300 episodes of training before the RAM of collab virtual machine runs out, by then the score will be around 200, which I think is a poor performance considering it trained for an hour and used 10+GB.\n",
        "\n",
        "Hence I turned to use the evolution strategy to develop the agent. This algorithm performs better under limited memory conditions such as in collab. This algorithm toggles the weights of the neural network directly, in hope to maximise the outcome, unlike the traditional RL algorithms that tries random actions in the action space to maximise the outcome."
      ],
      "metadata": {
        "id": "MglDd4mdCofx"
      }
    },
    {
      "cell_type": "markdown",
      "source": [
        "Refering to the ES model developed by Adriel-M, at (https://gist.github.com/Adriel-M/88c17591a2a468cb61ceac7bf15a6cf2), I learnt the basic idea of randomly generating weights and evaluating their performance. However in the model by Adriel-M, the rewards are calculated simply by multiplying the weight with their respective rewards, which is not very efficient considering there may be a few 'lucky' episodes that performed extremely well, which brings heavy attention to the episode, causing unstable updates that may bring the agent to evolve in a wrong direction.\n",
        "\n",
        "Hence, I am adding the additional lines to normalize the reward, making the reward to distribute normally around 0. This will help to reduce the effect of outliers in the learning process, increasing the stability and hence the efficiency of the model. Theoretically the standard deviation of the weight should also be recorded and updated in each cycle, but for simplicity sake, I am fixing the standard deviation at 1, in this cas it is still efficient enough to produce good result."
      ],
      "metadata": {
        "id": "KbCQO5Ubuyve"
      }
    },
    {
      "cell_type": "code",
      "source": [
        "env = gym.make('CartPole-v1')\n",
        "#Initial parameters, final values are determined by trial and error.\n",
        "population_size = 50\n",
        "sigma = 0.1\n",
        "learning_rate = 0.01\n",
        "num_iterations = 300\n",
        "\n",
        "#defining the initial guess weight to be 0, which is the mean of standard normal distribution\n",
        "#Since there are 4 variables in the observational space, and 2 variables in the action space, the Numpy array is defined with size of 4x2.\n",
        "guess = np.zeros((4, 2))\n",
        "\n",
        "#function to simulate Gaussian distrubution required for ES. Returns set of weights \n",
        "def get_weights():\n",
        "    weights = np.zeros((4, 2))\n",
        "    #initialise the Numpy 4x2 array by filling it with 0.\n",
        "    for i in range(4):\n",
        "        weights[i] = np.random.normal(guess[i], 1)# for each guess, the standard deviation is fixed at 1 for simplicity. \n",
        "        #get random weight by choosing a point from the previously defined normal distribution function.\n",
        "    return weights\n",
        "\n",
        "#function for the agent to play an episode using the set of generated weights and returns the result\n",
        "def get_reward(weights):\n",
        "    cumulative_reward = 0\n",
        "    done = False\n",
        "    observation= env.reset()\n",
        "    #making the empty tuple behind the observations to disappear\n",
        "    while not done:\n",
        "        action = np.argmax(np.dot(observation, weights))\n",
        "        #The dot product of observation and weights gives the set of Q-values for the state-action sets for each observation and weight.\n",
        "        #The argmax function finds the maximum Q-value's corresponding index, and put that into the action. Hence the action chosen in this step is the action that is expected to give the highest reward.\n",
        "        observation, reward, done, _ = env.step(action)[:4]\n",
        "        cumulative_reward += reward\n",
        "    return cumulative_reward\n",
        "\n",
        "# Initialise the population using previously defined function.\n",
        "population = [get_weights() for _ in range(population_size)]\n",
        "# The population is obtained randomly from normal distribution\n",
        "\n",
        "for i in range(num_iterations):\n",
        "    #define an Numpy array to store the reward obtained by each set of weights\n",
        "    print(i ,\"/\" , num_iterations)\n",
        "    rewards = np.zeros(population_size)\n",
        "    for j in range(population_size):\n",
        "        rewards[j] = get_reward(population[j])\n",
        "        #store the reward values for each set of randomly generated weights, to be processed later.\n",
        "    if(rewards[0] == 500 and np.std(rewards) == 0): \n",
        "      break\n",
        "      #Make the RL agent to stop if the agent is already well trained and not learning anything new, e.g. all rewards are max score.\n",
        "      #Also to avoid division by zero if np.std(rewards) == 0, in the next step, which will return a set of NaN values for best weights and cause the agent to fail.\n",
        "    rewards_normalized = (rewards - np.mean(rewards)) / np.std(rewards)\n",
        "    #normalize the set of reward values, to make the distribution of rewards to have mean of 0 and standard deviation of 1\n",
        "    #This step helps to increase the efficiency of the algorithm, by making the update process more stable.\n",
        "    weighted_population = np.array([p * r for p, r in zip(population, rewards_normalized)])\n",
        "    #The weighted population array contains the product of the set of weight in population, and their corresponding normalized reward value.\n",
        "    guess += learning_rate * np.sum(weighted_population, axis=0)/ (population_size * sigma)\n",
        "    #Make a new guess by the weight updating formula for the ES algorithm(from Adriel-M).\n",
        "    population = [get_weights() for _ in range(population_size)]\n",
        "    # Generate new population for another round of iteraton.\n",
        "\n",
        "#Weights that performed best from the rounds of iterations\n",
        "best_weights = population[np.argmax([get_reward(weights) for weights in population])]\n",
        "print('Best weights:', best_weights)\n",
        "#Show the values of set of best weights.\n",
        "env.close()\n",
        "#save the set of best weights for use in later evalutions and tasks.\n",
        "np.save(\"cartpole-es.npy\", best_weights)\n"
      ],
      "metadata": {
        "id": "Hk-M4QEfh6l5",
        "colab": {
          "base_uri": "https://localhost:8080/"
        },
        "outputId": "50a613d0-a0b3-43ca-84c4-2eea3e4894c3"
      },
      "execution_count": 9,
      "outputs": [
        {
          "output_type": "stream",
          "name": "stdout",
          "text": [
            "0 / 300\n",
            "1 / 300\n",
            "2 / 300\n",
            "3 / 300\n",
            "4 / 300\n",
            "5 / 300\n",
            "6 / 300\n",
            "7 / 300\n",
            "8 / 300\n",
            "9 / 300\n",
            "10 / 300\n",
            "11 / 300\n",
            "12 / 300\n",
            "13 / 300\n",
            "14 / 300\n",
            "15 / 300\n",
            "16 / 300\n",
            "17 / 300\n",
            "18 / 300\n",
            "19 / 300\n",
            "20 / 300\n",
            "21 / 300\n",
            "22 / 300\n",
            "23 / 300\n",
            "24 / 300\n",
            "25 / 300\n",
            "26 / 300\n",
            "27 / 300\n",
            "28 / 300\n",
            "29 / 300\n",
            "30 / 300\n",
            "31 / 300\n",
            "32 / 300\n",
            "33 / 300\n",
            "34 / 300\n",
            "35 / 300\n",
            "36 / 300\n",
            "37 / 300\n",
            "38 / 300\n",
            "39 / 300\n",
            "40 / 300\n",
            "41 / 300\n",
            "42 / 300\n",
            "43 / 300\n",
            "44 / 300\n",
            "45 / 300\n",
            "46 / 300\n",
            "47 / 300\n",
            "48 / 300\n",
            "49 / 300\n",
            "50 / 300\n",
            "51 / 300\n",
            "52 / 300\n",
            "53 / 300\n",
            "54 / 300\n",
            "55 / 300\n",
            "56 / 300\n",
            "57 / 300\n",
            "58 / 300\n",
            "59 / 300\n",
            "60 / 300\n",
            "61 / 300\n",
            "62 / 300\n",
            "63 / 300\n",
            "64 / 300\n",
            "65 / 300\n",
            "66 / 300\n",
            "67 / 300\n",
            "68 / 300\n",
            "69 / 300\n",
            "70 / 300\n",
            "71 / 300\n",
            "72 / 300\n",
            "73 / 300\n",
            "74 / 300\n",
            "75 / 300\n",
            "76 / 300\n",
            "77 / 300\n",
            "78 / 300\n",
            "79 / 300\n",
            "80 / 300\n",
            "81 / 300\n",
            "82 / 300\n",
            "83 / 300\n",
            "84 / 300\n",
            "85 / 300\n",
            "86 / 300\n",
            "87 / 300\n",
            "88 / 300\n",
            "89 / 300\n",
            "90 / 300\n",
            "91 / 300\n",
            "92 / 300\n",
            "93 / 300\n",
            "94 / 300\n",
            "95 / 300\n",
            "96 / 300\n",
            "97 / 300\n",
            "98 / 300\n",
            "99 / 300\n",
            "100 / 300\n",
            "101 / 300\n",
            "102 / 300\n",
            "103 / 300\n",
            "104 / 300\n",
            "105 / 300\n",
            "106 / 300\n",
            "107 / 300\n",
            "108 / 300\n",
            "109 / 300\n",
            "110 / 300\n",
            "111 / 300\n",
            "112 / 300\n",
            "113 / 300\n",
            "114 / 300\n",
            "115 / 300\n",
            "116 / 300\n",
            "117 / 300\n",
            "118 / 300\n",
            "119 / 300\n",
            "120 / 300\n",
            "121 / 300\n",
            "122 / 300\n",
            "123 / 300\n",
            "124 / 300\n",
            "125 / 300\n",
            "126 / 300\n",
            "127 / 300\n",
            "128 / 300\n",
            "129 / 300\n",
            "130 / 300\n",
            "131 / 300\n",
            "132 / 300\n",
            "133 / 300\n",
            "134 / 300\n",
            "135 / 300\n",
            "136 / 300\n",
            "137 / 300\n",
            "138 / 300\n",
            "139 / 300\n",
            "140 / 300\n",
            "141 / 300\n",
            "142 / 300\n",
            "143 / 300\n",
            "144 / 300\n",
            "145 / 300\n",
            "146 / 300\n",
            "147 / 300\n",
            "148 / 300\n",
            "149 / 300\n",
            "150 / 300\n",
            "151 / 300\n",
            "152 / 300\n",
            "153 / 300\n",
            "154 / 300\n",
            "155 / 300\n",
            "156 / 300\n",
            "157 / 300\n",
            "158 / 300\n",
            "159 / 300\n",
            "160 / 300\n",
            "161 / 300\n",
            "162 / 300\n",
            "163 / 300\n",
            "164 / 300\n",
            "165 / 300\n",
            "166 / 300\n",
            "167 / 300\n",
            "168 / 300\n",
            "169 / 300\n",
            "170 / 300\n",
            "171 / 300\n",
            "172 / 300\n",
            "173 / 300\n",
            "174 / 300\n",
            "175 / 300\n",
            "176 / 300\n",
            "177 / 300\n",
            "178 / 300\n",
            "179 / 300\n",
            "180 / 300\n",
            "181 / 300\n",
            "182 / 300\n",
            "183 / 300\n",
            "184 / 300\n",
            "185 / 300\n",
            "186 / 300\n",
            "187 / 300\n",
            "188 / 300\n",
            "189 / 300\n",
            "190 / 300\n",
            "191 / 300\n",
            "192 / 300\n",
            "193 / 300\n",
            "194 / 300\n",
            "195 / 300\n",
            "196 / 300\n",
            "197 / 300\n",
            "198 / 300\n",
            "199 / 300\n",
            "200 / 300\n",
            "201 / 300\n",
            "202 / 300\n",
            "203 / 300\n",
            "204 / 300\n",
            "205 / 300\n",
            "206 / 300\n",
            "207 / 300\n",
            "208 / 300\n",
            "209 / 300\n",
            "210 / 300\n",
            "211 / 300\n",
            "212 / 300\n",
            "213 / 300\n",
            "214 / 300\n",
            "215 / 300\n",
            "216 / 300\n",
            "217 / 300\n",
            "218 / 300\n",
            "219 / 300\n",
            "220 / 300\n",
            "221 / 300\n",
            "222 / 300\n",
            "223 / 300\n",
            "224 / 300\n",
            "225 / 300\n",
            "226 / 300\n",
            "227 / 300\n",
            "228 / 300\n",
            "229 / 300\n",
            "230 / 300\n",
            "231 / 300\n",
            "232 / 300\n",
            "233 / 300\n",
            "234 / 300\n",
            "235 / 300\n",
            "236 / 300\n",
            "237 / 300\n",
            "238 / 300\n",
            "239 / 300\n",
            "240 / 300\n",
            "241 / 300\n",
            "242 / 300\n",
            "243 / 300\n",
            "244 / 300\n",
            "245 / 300\n",
            "246 / 300\n",
            "247 / 300\n",
            "248 / 300\n",
            "249 / 300\n",
            "250 / 300\n",
            "251 / 300\n",
            "252 / 300\n",
            "253 / 300\n",
            "254 / 300\n",
            "255 / 300\n",
            "256 / 300\n",
            "257 / 300\n",
            "258 / 300\n",
            "259 / 300\n",
            "260 / 300\n",
            "261 / 300\n",
            "262 / 300\n",
            "263 / 300\n",
            "264 / 300\n",
            "265 / 300\n",
            "266 / 300\n",
            "267 / 300\n",
            "268 / 300\n",
            "269 / 300\n",
            "270 / 300\n",
            "271 / 300\n",
            "272 / 300\n",
            "273 / 300\n",
            "274 / 300\n",
            "275 / 300\n",
            "276 / 300\n",
            "277 / 300\n",
            "278 / 300\n",
            "279 / 300\n",
            "280 / 300\n",
            "281 / 300\n",
            "282 / 300\n",
            "283 / 300\n",
            "284 / 300\n",
            "285 / 300\n",
            "286 / 300\n",
            "287 / 300\n",
            "288 / 300\n",
            "Best weights: [[ 0.32074757  0.66116362]\n",
            " [-2.90908151  1.73212809]\n",
            " [-4.4087129   5.11982423]\n",
            " [-3.37551959  5.0093532 ]]\n"
          ]
        }
      ]
    },
    {
      "cell_type": "markdown",
      "source": [
        "For Task 1, we can show the observation and chosen action below:"
      ],
      "metadata": {
        "id": "RAi7KKwNiegR"
      }
    },
    {
      "cell_type": "markdown",
      "source": [],
      "metadata": {
        "id": "BJcK0N2YHywh"
      }
    },
    {
      "cell_type": "code",
      "source": [
        "env = gym.make('CartPole-v1')\n",
        "best_weights = np.load('cartpole-es.npy') \n",
        "# Reset the environment and get the initial state\n",
        "observation = env.reset()\n",
        "action = np.argmax(np.dot(observation, best_weights))\n",
        " #The Q values are determined from the dot product of state-action set (observation and best_weights), and the best value is chosen using agrmax()\n",
        "observation, reward, done, info = env.step(action)\n",
        " #Take the action determined by the previous step\n",
        "print(\"Observation:\", observation)\n",
        "print(\"Chosen action:\", action)\n",
        "env.close()"
      ],
      "metadata": {
        "id": "ae2ia-vUiNKJ",
        "colab": {
          "base_uri": "https://localhost:8080/"
        },
        "outputId": "8f82bb2a-00f7-427d-c614-e975c07e1e2f"
      },
      "execution_count": 10,
      "outputs": [
        {
          "output_type": "stream",
          "name": "stdout",
          "text": [
            "Observation: [ 0.02681473  0.21701775 -0.00862477 -0.26352543]\n",
            "Chosen action: 1\n"
          ]
        }
      ]
    },
    {
      "cell_type": "markdown",
      "source": [
        "## Task 2: Demonstrate the effectiveness of the RL agent"
      ],
      "metadata": {
        "id": "-XtIQ0Rti1gm"
      }
    },
    {
      "cell_type": "markdown",
      "source": [
        "For this task, use the agent developed in Task 1 to play the game for 100 episodes (refer to tutorial for how to play a round), record the cumulative reward for each round, and plot the reward for each round. A sample plotting code is given below. Note that you must include code to play for 100 episodes and use the code to obtain round_results for plotting. DO NOT record the round results in advance and paste the results to the notebook."
      ],
      "metadata": {
        "id": "djBEShf0kGI4"
      }
    },
    {
      "cell_type": "code",
      "source": [
        "num_episodes = 100\n",
        "episode_results = []\n",
        "#load the best weights and use it to make decisions\n",
        "best_weights = np.load('cartpole-es.npy') \n",
        "env = gym.make('CartPole-v1')\n",
        "for episode in range(100):\n",
        "    observation = env.reset()\n",
        "    score = 0\n",
        "    done = False\n",
        "    while not done:\n",
        "        action = np.argmax(np.dot(observation, best_weights))\n",
        "        #The Q values are determined from the dot product of state-action set (observation and best_weights), and the best value is chosen using agrmax()\n",
        "        observation, reward, done, info = env.step(action)\n",
        "        #Take the action determined by the previous step\n",
        "        score += reward\n",
        "        #add the reward to the score for this round\n",
        "    episode_results.append(score)\n",
        "    #append the final score for each round\n",
        "\n",
        "env.close()\n",
        "plt.plot(episode_results)\n",
        "plt.title('Cumulative reward for each episode')\n",
        "plt.ylabel('Cumulative reward')\n",
        "plt.xlabel('episode')\n",
        "plt.show()"
      ],
      "metadata": {
        "id": "RZrCKywQi6CE",
        "colab": {
          "base_uri": "https://localhost:8080/",
          "height": 295
        },
        "outputId": "f2f54e89-5655-4820-a307-d5cd4e0a11e8"
      },
      "execution_count": 11,
      "outputs": [
        {
          "output_type": "display_data",
          "data": {
            "text/plain": [
              "<Figure size 432x288 with 1 Axes>"
            ],
            "image/png": "[encoded data removed]"
          },
          "metadata": {
            "needs_background": "light"
          }
        }
      ]
    },
    {
      "cell_type": "markdown",
      "source": [
        "Print the average reward over the 100 episodes."
      ],
      "metadata": {
        "id": "XndSYH7wlvn7"
      }
    },
    {
      "cell_type": "code",
      "source": [
        "print(\"Average cumulative reward:\", sum(episode_results)/len(episode_results))\n",
        "print(\"Is my agent good enough?\", sum(episode_results)/len(episode_results) > 195)"
      ],
      "metadata": {
        "id": "pOiOp9OYlo5Y",
        "colab": {
          "base_uri": "https://localhost:8080/"
        },
        "outputId": "bdb67e3b-4bab-4c6f-bef3-bb8cc8de25a5"
      },
      "execution_count": 12,
      "outputs": [
        {
          "output_type": "stream",
          "name": "stdout",
          "text": [
            "Average cumulative reward: 500.0\n",
            "Is my agent good enough? True\n"
          ]
        }
      ]
    },
    {
      "cell_type": "markdown",
      "source": [
        "## Task 3: Render one episode played by the agent"
      ],
      "metadata": {
        "id": "Yg0DCT38lFA6"
      }
    },
    {
      "cell_type": "markdown",
      "source": [
        "Plug your agent to the code below to obtain rendered result."
      ],
      "metadata": {
        "id": "vx1awMr9lc_w"
      }
    },
    {
      "cell_type": "code",
      "source": [
        "env = RecordVideo(gym.make(\"CartPole-v1\"), \"./video\")\n",
        "observation = env.reset()\n",
        "best_weights = np.load('cartpole-es.npy') \n",
        "while True:\n",
        "    env.render()\n",
        "    #your agent goes here\n",
        "    action = np.argmax(np.dot(observation, best_weights))\n",
        "    observation, reward, done, info = env.step(action)\n",
        "    if done: \n",
        "      break;    \n",
        "env.close()\n",
        "show_video()"
      ],
      "metadata": {
        "id": "LYyavfbIa47D",
        "colab": {
          "base_uri": "https://localhost:8080/",
          "height": 421
        },
        "outputId": "5f73fa97-273a-4a75-ed07-9807fa8628e8"
      },
      "execution_count": 13,
      "outputs": [
        {
          "output_type": "display_data",
          "data": {
            "text/plain": [
              "<IPython.core.display.HTML object>"
            ],
            "text/html": [
              "<video alt=\"test\" autoplay \n",
              "                loop controls style=\"height: 400px;\">\n",
              "                <source src=\"data:video/mp4;base64,AAAAIGZ0eXBpc29tAAACAGlzb21pc28yYXZjMW1wNDEAAAAIZnJlZQAAWqNtZGF0AAACrgYF//+q3EXpvebZSLeWLNgg2SPu73gyNjQgLSBjb3JlIDE1NSByMjkxNyAwYTg0ZDk4IC0gSC4yNjQvTVBFRy00IEFWQyBjb2RlYyAtIENvcHlsZWZ0IDIwMDMtMjAxOCAtIGh0dHA6Ly93d3cudmlkZW9sYW4ub3JnL3gyNjQuaHRtbCAtIG9wdGlvbnM6IGNhYmFjPTEgcmVmPTMgZGVibG9jaz0xOjA6MCBhbmFseXNlPTB4MzoweDExMyBtZT1oZXggc3VibWU9NyBwc3k9MSBwc3lfcmQ9MS4wMDowLjAwIG1peGVkX3JlZj0xIG1lX3JhbmdlPTE2IGNocm9tYV9tZT0xIHRyZWxsaXM9MSA4eDhkY3Q9MSBjcW09MCBkZWFkem9uZT0yMSwxMSBmYXN0X3Bza2lwPTEgY2hyb21hX3FwX29mZnNldD0tMiB0aHJlYWRzPTMgbG9va2FoZWFkX3RocmVhZHM9MSBzbGljZWRfdGhyZWFkcz0wIG5yPTAgZGVjaW1hdGU9MSBpbnRlcmxhY2VkPTAgYmx1cmF5X2NvbXBhdD0wIGNvbnN0cmFpbmVkX2ludHJhPTAgYmZyYW1lcz0zIGJfcHlyYW1pZD0yIGJfYWRhcHQ9MSBiX2JpYXM9MCBkaXJlY3Q9MSB3ZWlnaHRiPTEgb3Blbl9nb3A9MCB3ZWlnaHRwPTIga2V5aW50PTI1MCBrZXlpbnRfbWluPTI1IHNjZW5lY3V0PTQwIGludHJhX3JlZnJlc2g9MCByY19sb29rYWhlYWQ9NDAgcmM9Y3JmIG1idHJlZT0xIGNyZj0yMy4wIHFjb21wPTAuNjAgcXBtaW49MCBxcG1heD02OSBxcHN0ZXA9NCBpcF9yYXRpbz0xLjQwIGFxPTE6MS4wMACAAAACCmWIhAAv//72rvzLK0cLlS4dWXuzUfLoSXL9iDB9aAAAAwAAAwAAJuKiZ0WFMeJsgAAALmAIWElDyDzETFWKgSvGXyxSICABPYl/rpWGiQkI1d2s2iarwbvdd4rz47zQHadw/4TL0BTXribAy8WbbyJZAiD0wVbkK0W8fc+aUaOyacenajC35c+Pl2Yp8cxVWR5SYq34N4nzjKI+/Ire0TkcBQ1UgpC4ynjfmg75CkrKem83EGb2xEgWmH0DpDbrdC4E2GkHBGYSW1MjhCdU3Qjh/mpJagYeB0sABQ1i1aFaEvO4p38evX9PCyQmjonZvK6ZOaP550/gG17TxbuiGAtZgthn+V2FWj8NPfg9GcAlFSRyDdLdWaWOX4uyr+kmC5HLmH+usPV9AGcUzGU9+9hxHnLmvDg9aJ6quDqhLGgrpfPgS5ngE6D2wskAGG9F1cwi+MPbjLrpHThd5MbpfU+RZ69x5Tzbw06RpKD1p9w7yVB26LkX0VtefFLMDmGkQyjyYq17U9YfaGmhvyP/LfsCuuBjZvwNS9HmHpsoE7QaAlLD6otqvn3DLMxUbACpGdgbCLRht0UtzsBhs35FNjzNGEDAVUHfRXg9Oy+42AAQutOKVVRLH5e1WEjmWi9aIMF0HOKf7qK3w+yQBg6PUyolN16+pJCe5ieeTEYF8AuJtiAAAAMAAAMBoQAAALBBmiRsQv/+jLAAABqN+xe0lKiADht3bErvG/QfCQsI8IrNmTyLnLrCE8jxJ/jbLBgdmQPbMkLVt969vggJARjZFoZ1TkI/Ee782YQgHFVXqLus9JqUDkYpOQwr+db+67tmwCYGN4OgcFmjUjcDqDSgCvj1VV0o0/2OwUxVhr36bB2AFsqMXUVC2ao2gpBA2aV8fdF3pqPGfgHd9pQ3xJns0LTTrQTlAYIRm8lLSds9yAAAAEBBnkJ4hH8AAAhten2XRNKDWkX6sRj/LPJLnHFmMdoIAcCTO/dt7GcdvHLS1ESFU7kX8JNmQaAngU1la3BX4fbBAAAAHAGeYXRH/wAABRxbeZLHx+F3KQKVoRKROIwQxoAAAAAfAZ5jakf/AAANhJ6beGHl1gI824tZ0WPxETN+r5Ig4QAAAFJBmmhJqEFomUwIX//+jLAAAEYC0Pmc1jpLA14+cy7EGIAHjTBNr7V2/njSqTh3misdgCH6XgVD8AJ6jyJWJrTdNS5hwHY8y2OJ7avHikkadSWBAAAAJUGehkURLCP/AAAWtVhVguckAXp/yQYWz8i7dOIQJMNFeJ0gWzEAAAAwAZ6ldEf/AAAjrDlblyji6i8LmMGtqAFb68H+MsqTj871xEkmqAHZ7af2GgbsYICBAAAAEQGep2pH/wAABPs1Cor4a42AAAAAQUGaqkmoQWyZTBRML//+jLAAAEgCz5u9vsgXT/u9+lVaVfxBXR85mIcmJY8YPAKr/5AMa/6tbvOxDHyfCu9cAm28AAAALwGeyWpH/wAAJLHMDTZwn65NIDzNcbZEB0Vzf0rC6KkkhfXv35k8K8cl+rVwSF2xAAAAkEGazEnhClJlMFLC//6MsAAAG09GxjsX6d693sm7dsSDyPCPSFMAIF7x6MwEVAv6Rou9dIAB68JbDP+FtIjHjt/XWfeNg6v7d7tdjbRuPjKF0rAVWM/NyZym++tq3WRWkZR+nU1+G/yBY51J/Ey5SChtK+gvE3EalkUCzuj7okzSVBp204cc3kjei3akIct2OQAAACgBnutqR/8AAA3PtoxjN1DhR1pxxkzfC+FDvWMkgpKInnvbW3G7ExLwAAAAY0Ga7knhDomUwUTDP/6eEAAAGn9RWOrlGEyywmh49HQ5N/2kzAAGyuMPAr6nHFFwygP3smfkyMXaWAoWV7BiRARPt8H9ZLaCrE7A+71z9aMOGHQ7kncMEr0rOxG41DcSF3M6CQAAABsBnw1qR/8AAAVBMA4bk+3UKBobq6aU9Bi57UkAAAB5QZsSSeEPJlMCGf/+nhAAAEdFCDQBxQZLwJPggAWS3B4nyjzswQsscXRz0Kj4F+K+cm95kBTcnyTz2O3w8ZILKaTWLzgPBO/dRyuma3JBL42DFg9KSKdjul9A2FaBrlJ0iOi2+QsUcMcay1hLf6PYnxRKzeu0vN8XxQAAADFBnzBFETwj/wAAF0UrN2oqkzzvrvg/SmsnRGExsMJgm+fHlCr30PtpWKBlRG4Y1OKbAAAAJwGfT3RH/wAAJKv4W3e1XmllzA0QA8R5Cnp2DQY7pi72kShn6197gAAAAB0Bn1FqR/8AAAMB8M1F0woCsQV+tS8SjkLZW1nnXwAAAHNBm1ZJqEFomUwIZ//+nhAAAEdFBR8aTvibI4gEcJ7C0GmWwxPeXMA6pUNSGEttA1+H77QxzBaJ/lencTFlElbyTostGJXudGcmJucAvJlTOBk1hpVSF/HPyZ5hfyKKaBfShUM4pTYM3gPg5JvucAVJe5gzAAAANEGfdEURLCP/AAAXRSst49Op1dInP1ilgiti7G0X8zY92JIAFYVE6vwkdJ1ujPrOEOw7HBAAAAA4AZ+TdEf/AAAkwxdmXGyz/brmYKNvi8Fy5IyGH/RLiZehFd4W8AAm6VTfgfGqls4rLRKEOBquPvcAAAAbAZ+Vakf/AAAFHzVPu9A57JHZAKR5uZWUdSLAAAAAZUGbmkmoQWyZTAhn//6eEAAAR2jGl4E7jYEiL3yfACHjk2WLcu7EBcOjpfIP90iNyxa/y1kJG9JU0KqMzde83kJYAbciRejBMdqJk/NIRX/37/d0cIn2GDZpljeBWzZMwwYAKPuZAAAAI0GfuEUVLCP/AAAXQ0dILXmngxfNhVqosJ4r1AuIfmptT5wRAAAAGgGf13RH/wAAJKv4W3gSnWgjiBGek/z1gP/MAAAAJQGf2WpH/wAAJLHMCW8/tQsWW7j6i+D1uk8iJMZIpvprYbzi1IEAAABPQZveSahBbJlMCF///oywAABIAtPeAiOdSeTakEFQ81u9XjzpzDjp/WyXeb0Ve8VfCW/FxF5KjXdLreRo6g8cXktV0FN32iRtzu2T2SAo+AAAACpBn/xFFSwj/wAAF0xDzbcV4uTc8KW9EQ1Sh0Aq+mXdRckxwE0hl743Q90AAAAdAZ4bdEf/AAAFQ8vuigkTjgf+SI48D0Tj6ZPce4EAAAAXAZ4dakf/AAAkscwJb6lvshVI+9OoZiwAAABFQZoBSahBbJlMCGf//p4QAABHRQUU3o3NCFEARNCPvRJ4NsyLNcSH/IXqB3CMVXXVvz8YE9r68PpFge4VfeHv5DTSrraAAAAAJkGeP0UVLCP/AAAXTEPNtxaDY6KqACs/TxtWYFxYVzRz1nHvIs3zAAAAKgGeQGpH/wAAJL8EJxLJwwZ8QqHnNUVajptjyOIHAe2Y8p6p5tdrkLoiwAAAAENBmkVJqEFsmUwIZ//+nhAAAEdRCU8FRKVcHBqKcp3Q13d9ADVY8sqpbg0FEuWUPZJzQ71dbu94tLmSMBropJo5juWtAAAAOkGeY0UVLCP/AAAXTEPNtxXi5Nzwpby334OoAh3q43YuRj43Xb0VdoBpqLCjWHCVhIbTb5WNQU/9W1IAAAAbAZ6CdEf/AAAFQFJrm3BYc4YpG9SoPbWHQWRZAAAAGwGehGpH/wAAJL8EJxLJaZrH6iEPkStDKXzFgQAAAJRBmolJqEFsmUwIZ//+nhAAABsIpKiWlc3A2Hvvx4eS+EAQDDyyqluD33eGsegHh9lIyJ8CNbR1NN/yprdI5+Y5syvfjaMTXGLH5vs7z0LUOSFRY6M4CjFtOfmQqN2baKB2iAjYYlfO325osEjbNUZpLFobfPaaNj5+bTfeqzbGzLQWFLvJ7NTYrUC99MHF1j1SKSnxAAAAJ0Gep0UVLCP/AAAIbyhcHOwDT3exKRYbyhSnD7H4wD62yF9EJ3ZFgQAAABsBnsZ0R/8AAAVAUmubcFhzhikb1Kg9tYdBZFgAAAApAZ7Iakf/AAANz7aMNyg1xcembymFhM4J8vwgAA1pEnR/VTtSVZmx7vcAAABrQZrNSahBbJlMCGf//p4QAAAa+P+gdQvmZvAyVJoAuUUmY3ypX97uxlMsAzkUYndA5qeD6nrUYM/2YSTthjX5r5GL/0x+Zga4ememW1UHS+PLMTLsbQ+h/238zec3ZYI2lill4tM9WL5CpUMAAAAiQZ7rRRUsI/8AAAivIeffNRnIagWIEFYE5nZDY5ldx00FgAAAABABnwp0R/8AAAMAA+EUe3tAAAAAHQGfDGpH/wAADc+2mLlSWyq0G3zh4vPpay0sHl3BAAAAY0GbEUmoQWyZTAhn//6eEAAAR0UFTOPANQ+bizIWKdCqADW3KpWElHylPcq4q2RQan8hXCrAiNppVp/VSWSexQdFxrxpLrTmThzXJYoXG6epy64862OU6lSyCvwqRr3zCoyqgQAAAE9Bny9FFSwj/wAAF0xDzcy0kIw5lJ7Yy9ilrByVA8nLgo67AHsSZ+ne/QYD2yqHPDdmEqCTjoQvxCqA5fdFIwGuCXAajbrd3jp6Iw9eLeNhAAAAHgGfTnRH/wAADc4A02EKcvWYw4Wd/sgxjPv7dnFhYAAAACgBn1BqR/8AACSxzAmJQRiAqVIAfJgdJBTmagaV7h9OmX0XzbeYcL+pAAAARUGbVUmoQWyZTAhn//6eEAAAGlkAOfdYdlZvBtzfFaIwJ6MJNn3qSzllRLANABu6vVKl6HzGH01VMkfkQr7ZE4q1lUf0XQAAACJBn3NFFSwj/wAACGwLihkPYA4+gV0xOi8ZJKx1i/+32iPgAAAAGAGfknRH/wAADX4Ulfc27NSq604isK1NwAAAABABn5RqR/8AAAMAA+L/xWVBAAAAa0GbmUmoQWyZTAhf//6MsAAAG0Hxo/eH4bPEprrbvmQayuYpMW6bGZ3QW///LoAcZ+56AI9z4HoXzBNmZInn+Z6laa+H9lsL7AEIxN3rkiDz/NBhQKcEMsFl8cu3YjaSuMYZKL81QJeJqSJSAAAAL0Gft0UVLCP/AAAIryHnuLtYSHm4vUDS7WYPqO1a5ssJzEAHJEplSSnTPe7JOX1JAAAAIQGf1nRH/wAADdITibXwLBqQZw6KxWFCd4RlcCM3IZb+6QAAABgBn9hqR/8AAA3Pto232Pb+NafDihSkouAAAABYQZvdSahBbJlMCF///oywAABIJeJ+IDhhF3YhajbSzFwn9bTB8hdwvQQupytZlhVywPbMOBRltjnTurt7/a+A17JY1ABwMg3EQGvNhUF8R+7SXdC+3XhvQQAAAB1Bn/tFFSwj/wAAF0xDzbcV5T9ZEiPYG8d2e4f9swAAAA8Bnhp0R/8AAAVA37GAG/EAAAAZAZ4cakf/AAAkvwQnEsm3+rTIwiMEvQTlDQAAAEpBmh9JqEFsmUwUTC///oywAAADABSa/PAXjixB4J22hwBVkNajuDHYdNz/2okIthvL7LuS7lkwmzwFzp364DtKZ/jeOnpYqDcrgAAAACEBnj5qR/8AAA3XX8KIfhdLPuyyyCtkNpHRDZazGh8a14AAAAA7QZoiSeEKUmUwIZ/+nhAAAEdUqz7j+5zPVjdog+kncgwYeQ0fngA0YYaYdw9xAw9BDNFZRbB9BkAi5qUAAAAmQZ5ARTRMI/8AABdMQ83ZlbwAR6xnoEtZAnMCG2SAx5ql4QD6XkAAAAAZAZ5hakf/AAAkvwQnEslpmrhWUx8oPZnN/wAAAF9BmmZJqEFomUwIZ//+nhAAABsfUVSXRVenkTAI3ujIn94cFjhS3iCTBpGGIAzeXhwJYlPnGuAIKlhoV60WWIp7Qyxv/iRX5zPKZaZQbPrJ1HNouqB8dN1O/ZQVWB1bXAAAAC9BnoRFESwj/wAACGwMuDrWwADjON1/I4NR+YWF9Nf9PcoRE8nfmXWi2WaB7TL8sQAAABwBnqN0R/8AAA3OBd7cEmvoHFopE+wowvg5lHXhAAAAKAGepWpH/wAABR+pHPhZ3NU2QgAnMaWhZZ5xyYUtCZEM3Effqtb+5IsAAABLQZqqSahBbJlMCGf//p4QAAAKODEGxOrVEWZV4KwG9AA2fedhxIFR5HtTNwYVIK3ebmrowCxCB/GgptLX6StF/gdfjey/X+Q3CzBNAAAAJ0GeyEUVLCP/AAADA0xPMXSyLPBWeAl9r78gkXNCE1aK4P4L5YNqQAAAABoBnud0R/8AAAVAW3mST3cpJIfH3vXrGBnakAAAAB0BnulqR/8AAAMB5c3xUO4OKvUhwyWXJwDzo0/LUwAAAE1Bmu5JqEFsmUwIZ//+nhAAAEdFJcy6cH+4iIALTb/PD5JdFetgvysrnWBG6cuX34l3/+GiFW82T9iPAlORmfBOQTaewwwQ8y1E/AsC+AAAAC5BnwxFFSwj/wAAF0UrN2ttWmOYBgNt3SubQjsE2OGgCEp73sqRjjSKurb/7HIsAAAAIQGfK3RH/wAAJMMXaLI8srwCfB4J6sU5qP3gcQ6AzvaWvQAAABwBny1qR/8AAAVDMJZ7iTlR6FUx/BERSkhT+21JAAAAN0GbMkmoQWyZTAhn//6eEAAAR1SrRJA5+Rd9XxY+rKeKdLXZVHDUegQAc6s2y1etY3s7gtShRaUAAAAZQZ9QRRUsI/8AABdFKzdrWl64ooPCLuRJwAAAABgBn290R/8AACSr+Ft4Ep1oI4gRnpbvg7oAAAAOAZ9xakf/AAADAAADAakAAABKQZt2SahBbJlMCGf//p4QAABHRSXMunB/svmwS3oUjiAEKZ2IQctGgEDeMR+ZoL4QKcyCslUbirVtp62GNeLN6B14kxFM4rj+xhAAAAAvQZ+URRUsI/8AABdFKzdrWWaIuQFq0dkaAeHB1bADfigzvg7p/8nT4opVDOjxcCAAAAAXAZ+zdEf/AAAkq/hbeBKdaCOIJciWHhEAAAAbAZ+1akf/AAAFHzTV3tuIaoJIG+jw6CRwkZOCAAAANEGbukmoQWyZTAhn//6eEAAAR1SrRJA5+Rd9Xy3z9HqDWEv/jWHubJZekU8QA2B+rfYYDPkAAAAYQZ/YRRUsI/8AABdFKzdrWl64ooXnIEMrAAAAFwGf93RH/wAAJKv4W3gSnWgjiCXIlh4QAAAADgGf+WpH/wAAAwAAAwGpAAAAQ0Gb/kmoQWyZTAhn//6eEAAAR0Uld/Bhv9oLk/SGCYvGViwAWBNoXa5zHZQ/K1UaxubZ6vHnnhKN/2xAqaatJzpp2kAAAAAxQZ4cRRUsI/8AABdFKzdrbXz3r2O0aAK3rGoPWkwRLRp4EcStuiJRrjXMqhAjN2f3uQAAABsBnjt0R/8AACSr+Ft4Ep13tVLo7y96AD+ul4EAAAAeAZ49akf/AAADAL9ZvIcJ5fPNt/3BcJHyvqoGdkdeAAAAOEGaIkmoQWyZTAhn//6eEAAAR1SrPuP8gW+phnvYrAtsh5se5Rno8mCtWAtj6cWxeAl9uhGpnI8wAAAAHUGeQEUVLCP/AAAXRSs3a1peuKKDwjCwOdzHmocFAAAAIAGef3RH/wAAJMMXaKmleT26/rXoJcXTw4UCv8s3lCiwAAAADgGeYWpH/wAAAwAAAwGpAAAAakGaZkmoQWyZTAhn//6eEAAAR7pvPjByHTeAm5I6KEXwACC1mhc+ykcUGn1WdB5KbU8+4rUsiLAN/8n0Mx1XvGlfxUEMYeKdp0bCjtixSCgoR7uUoEaPx4fIVAYBjytbhtEuve9lO14U974AAABBQZ6ERRUsI/8AABdFKzDXeiE96RCoAWLpgAMfgS3tber8Jeh31urmR5tP3VYp8/a+BhPgevOxWCj95ExHKCwKE4MAAAAZAZ6jdEf/AAAkq/hbeBKdaCN5uvG04y6JWQAAACYBnqVqR/8AAA3P1jTCkMm8gLFQ6iAFmXwUtZ3DsexcFgHvK81dgQAAADBBmqpJqEFsmUwIZ//+nhAAAEVUq051hJ8KZPflM3i24dzjYOzQBeMBpA8WsyTEPNEAAAAcQZ7IRRUsI/8AABa8TmzC2EtaLi38+OqeVk/PegAAACkBnud0R/8AAAMACoAPAbNhWt3zvSY44AIAKc5oz9DfhKjVzybVQTq1IAAAABYBnulqR/8AACOyKwcTOOGoIdpbMt3pAAAAVUGa7kmoQWyZTAhn//6eEAAARVEOWkLcNzeugXUmuzl+S4NVVWWZr1mKlnaAKOFNdQXh6ORF1sLa24sJ3BnPhKb2gDpTVXwBuCD8J+Ku0OciczZ7OiAAAAAtQZ8MRRUsI/8AABa1WFUvXUB9/X4zxgBq9bkxStNVBItzhrYNRZ3jrlHEGSJUAAAAFwGfK3RH/wAAI8M+DnjYTXx0zskEHLOBAAAAHQGfLWpH/wAAAwHmf9U7wspNPOi6wkenQh/Yp+zBAAAAMkGbMkmoQWyZTAhn//6eEAAARVSrTnWEnwpk9+UzeLbhsJJWSMwCznuZWoywD4Z3+z7xAAAAI0GfUEUVLCP/AAAWvE5sqCR1eKds+IB0M/SROaDo+Yw2YlTAAAAAGQGfb3RH/wAABR/Qwc8bCfinMyH43S6Yl9sAAAAUAZ9xakf/AAAjsisHEzjhqCPAgYEAAAA2QZt2SahBbJlMCGf//p4QAABFUQ5aQtyvRT6l/HJUcZ9+TP/x6JBdhWkrb5bvsycXiEvvA7ZgAAAAHkGflEUVLCP/AAAWvE5swthLC0qeNO9hY2GPH7YSoAAAAA4Bn7N0R/8AAAMAAAMBqQAAACIBn7VqR/8AACOyKwWxFjsPzc7OHU19GC92QGA5yHu06diwAAAAMUGbukmoQWyZTAhn//6eEAAARVEOWkLb4iX3PALSu/xB0HKdPv2iEBQ5MDyWpy+zdJkAAAAsQZ/YRRUsI/8AABa8Tmyhlkk2FtkCgewAcDrpFisZ8wQNeBcVRPMlZqg8yTEAAAAZAZ/3dEf/AAAFH9DBzxsJ+AX8UbtS0oiGzAAAABUBn/lqR/8AACO/Gs573gm2Yq1QoIEAAAA0QZv+SahBbJlMCGf//p4QAABFUQ439U0EF5MocrhBaWvpkALo3dKXnnoAj/Fk0dXKhdx4rAAAAB9BnhxFFSwj/wAAFrxDzbcVzKyZST4HQorLh57/1HJNAAAADgGeO3RH/wAAAwAAAwGpAAAAIgGePWpH/wAAI7HMCW8mfXRQU6+IWFgvl6zA2zwAMxO72zAAAAA2QZoiSahBbJlMCGf//p4QAAADA53Dr6fvir5UADNfG+1UgCeNsZlhUPYEo4DCgWDsbboIf+azAAAAHkGeQEUVLCP/AAADAS3lC29NRkS7BHBPVLXzC4aQEQAAACwBnn90R/8AAAUeht0RoiGdvlcMvIcH2AAkZ0t7UVKUONhlwjnnyC4BPVXbMAAAABsBnmFqR/8AAAT33Ws2szwP9swIfLlEJilhICEAAABAQZpmSahBbJlMCGf//p4QAABFRSXM48A1ZqirF1Gsir6gmqAA3IuGkBb6x1zlsaTHYxPZ/v7vPCB1zbdb1KrcEAAAACJBnoRFFSwj/wAAFrUrN2taXsmHOWjr5Y0P7QC+ZJtPHzbNAAAAFwGeo3RH/wAAI6v4W3gSnWgjiCXIlh6xAAAAHAGepWpH/wAAAwHbgBL44Gm4rXVClwk7Zlbg5IEAAAAvQZqqSahBbJlMCGf//p4QAABFRGoiXTg/xuXZvyGMueHT2HCKQ1h0da4HSB5w1BEAAAAoQZ7IRRUsI/8AABazK7UFw4oAS0ztl4ZgrV+AxyEnytR123lJqT1SPgAAACYBnud0R/8AACOr+Ft4CJdogsxgqSOlMBxkHgOGIn9TJd9AmncDkgAAABoBnulqR/8AACO/BCcSyWmauFZteZjan6ud0QAAAC1Bmu5JqEFsmUwIZ//+nhAAAAmozSbUtqhD62ghqJR+degQOkKnpknB86nCmMAAAAA0QZ8MRRUsI/8AAAMDL+47ImRgBWL5Eb/zCwJEkaFSLCzSkvC+QrRmtBlbJctn0SGE4zQFtwAAAC4Bnyt0R/8AACPAmd3pZ2oASw2ZaIFnAY1Xjapvy0nO/pEu17Yi5gFrzryFreSBAAAAHAGfLWpH/wAABR8wlnuJ3Pw0m6L0UMKPWJngtmEAAAAyQZsySahBbJlMCGf//p4QAABFRSi0AOenJze1ka5sLwlJFQ5PcahfjGzeHyEc83uYJuEAAAAaQZ9QRRUsI/8AABa1KzdrWl64ooXrK6FIZ8AAAAAnAZ9vdEf/AAAjq/hbeBQLXzrfVWxh4zFBuj/NEhUhjdvxWDMcuduAAAAAEAGfcWpH/wAAAwAaaTwod0EAAAA+QZt2SahBbJlMCGf//p4QAABFVKs+4/yCPUVU7a3uZx1Q/OnpL66VhkZ7FQ25ZDtDDqIASKimS8J3rYv+57AAAAAyQZ+URRUsI/8AABa1KzdrYOd0KD4A2toAFraL8+nErteQ1CsABOx5WMKKQYJtLPnPyTAAAAAdAZ+zdEf/AAAjq/hbeBKdZFrUOF3Q8gK3QRcUFtEAAAAjAZ+1akf/AAAFHTT14V9rLHxFyJmT3Xi6VtIh3Tc2Hb1K2YAAAAAmQZu6SahBbJlMCGf//p4QAABFRSXMunYkNKuHlqf1B7HzpRVZAQsAAAAaQZ/YRRUsI/8AABa1KzdrWl64ooXt5cEUWUEAAAAoAZ/3dEf/AAAjwxdoqaT0Ihr+7oAWY2uW2Ue3M3MnDWCosC5p3pXbMAAAABABn/lqR/8AAAMAGmk8KHdBAAAAOEGb/kmoQWyZTAhn//6eEAAARVSrPuP8gjgaogsQPCxshMMFAynCpPPpc7bPIVea/gA5ylSUq2GAAAAAKUGeHEUVLCP/AAAWtSs3JqHjsaT2V+J0ZJpP6UdKvS5KtQU6sLH6ryoxAAAAGAGeO3RH/wAAI8MXaKmlU9T7xo1eHoVhqQAAACUBnj1qR/8AAA00n5WW9/Bnj1e7SjEC8fTaDuAhLdIsKV558tmAAAAAKUGaIkmoQWyZTAhn//6eEAAARUUotADnps5qmP4DUNlrlnivMhD9GCdgAAAAG0GeQEUVLCP/AAAWvEPNtxXMrJlIgHRkaKD5gQAAACUBnn90R/8AAAMAuEI2DvfoASynvw0qNUDcfdG95Vkc33/hR58GAAAAGwGeYWpH/wAAI7HMCM48x9MT9eJd7zKB5RR6wQAAAEdBmmZJqEFsmUwIZ//+nhAAAEVRDi8FNlZUVNA8X+O7JaiJq6cB0txC8izpUjZbAE+FhEGzVuSFi6CnijSHHS+Hhwv+U09IyAAAAClBnoRFFSwj/wAAFrxDzbbZeIlIMcVhm4KhK7ABBAbGM4RWhD5rVhWICQAAABIBnqN0R/8AAAT4W3m3KVcg44EAAAAgAZ6lakf/AAAjscwJb8HDmylwcIxfaucVs85/qq9nJMEAAABGQZqqSahBbJlMCF///oywAAADAW83tq/Kit7mBaoAVkqpcCR98TnbTox6GEXyONvfDc0uUvT+kU0eS0IxCVawFJOLISehgQAAAB1BnshFFSwj/wAAAwB0IfIs6K5lme6LXrafY/7ZgAAAACABnud0R/8AAAUehwLMS7KHl4RRsJ5q7tanZc7b2LPbMAAAABwBnulqR/8AAAT14Pf6CKIZ35vt7V58kjdKkICBAAAAR0Ga7kmoQWyZTAhf//6MsAAARnpvPd9lweyz9PJiOKm2C4Np+S+UO3ccFQtJdoEZ1ABLN6PhQhX4VQqrk/lylRrH9nccGJ/AAAAAKUGfDEUVLCP/AAAWtSbjmVy6UALF+vUSoGmMJ621pvs5uDcuTTX9W5eDAAAAGAGfK3RH/wAAI6v4W3gSnWgjiCXHnHWouQAAABsBny1qR/8AACK/Gs573gm2YrFYf4bxHfMoJUEAAAAeQZswSahBbJlMFEwz//6eEAAAAwAHaO8zBPU0ayDhAAAAIQGfT2pH/wAAAwCzVh+bFgp/qe7vXAybC/LqWFd47qy2YAAAADVBm1RJ4QpSZTAhf/6MsAAARAL3+mS1UX33yJRTnRP0kjANZ2TuoI8a43+cdzxWa2G4aVaZwAAAAC1Bn3JFNEwj/wAAFixObKgkdXiZ3Gp3sAG0eJFVJ/61e+I+YHh4f07CC2POgn0AAAAcAZ+RdEf/AAADAdqKHj1oyWKXid46hMbdBbgxYAAAABQBn5NqR/8AACKyKwcTONj7ORxCRgAAADtBm5hJqEFomUwIX//+jLAAAEQQwX8saho39boyiJX8WgdBbt3NKI1P8rVH61cZ4J9/EQ6LGsU3aVIBsQAAACJBn7ZFESwj/wAAFixObKgkdXihibZVUI67QcXvOx4NClsqAAAAGQGf1XRH/wAABPvQwc8bCfinMyH43S6Yl+UAAAAkAZ/Xakf/AAAisisFsRY7D83J0qfA8VOjy73mYSj+Kz2sDD+ZAAAAMkGb3EmoQWyZTAhf//6MsAAARAL3+jWcki7MG1IxXL81gkAlnlAjEAXY5O/xtDUb6hcQAAAAFkGf+kUVLCP/AAAWLE5swthLC0tqFlEAAAAOAZ4ZdEf/AAADAAADAakAAAATAZ4bakf/AAAisisHEzjhqTwlYQAAAEVBmh1JqEFsmUwIZ//+nhAAAAm3v42abMPB3+tFn8sPagVpyUAHC4ln/gWaA0/BWrc1/4aA4JbxFnhBxUUm2D9SYPV5QWEAAAA5QZohSeEKUmUwIZ/+nhAAAENUq051hJ8KZPflM3i23zQTyenTqTrNADJe+AxQvbqthHg5m+5eTthgAAAAH0GeX0U0TCP/AAAWLE5swsnLgNwbUq84Nghz3h5oRCwAAAAiAZ5+dEf/AAADAdU5YK2zYqbCTYUxVTpa4d/ZlOldlu3pgQAAACEBnmBqR/8AACK/Gs47DODiIsSWsSPkAoPK7LMUiAZPpNgAAABKQZplSahBaJlMCGf//p4QAABBTxg42PsANpwbiappU3USaWHyGrQwAdPxCXAhgxXyURI9Kb+YPqyWGm7DvBUnPPp5kYz19ytAVuEAAAAeQZ6DRREsI/8AAAfyIx/cOnPjF75LM65EOibAcZJsAAAADgGeonRH/wAAAwAAAwGpAAAAKAGepGpH/wAAIq5eM4F7nUoTsUT0NBAOryHLALCkxzUcsg79rG/wWLEAAAAvQZqpSahBbJlMCGf//p4QAABDRGoiXTg/2IolwAzqYDgNfH1zgPgAntmBmiJtm4EAAAAxQZ7HRRUsI/8AABYjK7UFwTQA03qpNC1Nbma0O47ImBuTghhIdGbGHeFQzR9uL95NgQAAACUBnuZ0R/8AACKr+FuJMuTqL3omltoubcIm9EzqKFaA8uAZr7k2AAAAIQGe6GpH/wAAIr8EJxHV4DgIFEXOXIFUWvK9jBRaOz9h0wAAAEFBmu1JqEFsmUwIZ//+nhAAAENlYlagHez5Y/X97C79uhsdPLZ4Dz39V50pA50ursAPcJjJoPg922/BDbSEps6GrQAAABtBnwtFFSwj/wAAFixDzbHhDk5YFmKTZmBwETAAAAAPAZ8qdEf/AAAM3hPsAJmAAAAAFwGfLGpH/wAAIr8EJxLJaZq4VmspZYZdAAAATEGbMUmoQWyZTAhn//6eEAAAQ1EOLwU2Rc32HSSKfIl7IzSpypLls8LwVCAIC616DDIW9zxt9TgYEt2oztE7rv+QifHS37FuuUPVhx8AAAAkQZ9PRRUsI/8AABYsQ8222XiJSDHFYQOZ44S5bOyNK8ydWJNhAAAAJwGfbnRH/wAADN4Vv9iMEOZ8A67RvMxHpMVevlPHCnlK8YG07uSTYAAAACUBn3BqR/8AACK/BCcSxtxyfwNxP0RRVosShVMy5Z8z+rgPb/PgAAAAPUGbdUmoQWyZTAhn//6eEAAAAwOdw66vufcnNgAEyoRdlr7wzg2kjTJ5zCu+jlWcZKXp/xX9o6wiH9bLjsEAAAAlQZ+TRRUsI/8AAAMDG+5BBHsbrwAfgEtAALZupBscZdZl8aregAAAABoBn7J0R/8AAAT70MHOto3DV9gRWgicZldvQAAAABABn7RqR/8AAAT7NNW6gFJBAAAARkGbuUmoQWyZTAhn//6eEAAAQ0UotADnpyc3tZGuHr3MhQQoRyG+AD6NLWpnRz2GhE8BBIjoSBoCQs78IAuc4FJBd9uQLf8AAAAlQZ/XRRUsI/8AABYlKzdrbVpjmGpivolQITITmQ63zmkhgD8HgwAAACQBn/Z0R/8AACLDF2ipnfHY/zrzb6Hs2VfPkuIflivHOHUyfb0AAAAkAZ/4akf/AAAE+TT14V9rLHxFyXwuocFEmxL9pAFgW3lkn+3oAAAAKkGb/UmoQWyZTAhn//6eEAAAQ1SrPuP8gW+nRwSUJJRF5R9FWPuwHmvBxwAAABhBnhtFFSwj/wAAFixDzbcVzKyZSUS4BywAAAAQAZ46dEf/AAADAENKe9g5oQAAABcBnjxqR/8AACK/BCcSyWmauFZXKYQLaQAAAERBmiFJqEFsmUwIZ//+nhAAAENRDjf1TQQXktrrBYrWLQW4ADfjl+DBF8Si6wTaV7wGBSKgiCX/q3+KcuE/llHuR9vb1AAAACRBnl9FFSwj/wAAFixDzbcVydkNQfh0AqY6vE44cURHLFm06YAAAAAeAZ5+dEf/AAADAc9E90HSsm2j2KD0I1WpSWGPq4hZAAAAHwGeYGpH/wAAIr8EJxLJcEZVEb3pXQyh+DE5dyY6J8AAAAA0QZplSahBbJlMCGf//p4QAABDUQ4vBTZFzdKY9aDhoXinmYWqStiGCylUXACw++RcwbGP8QAAABpBnoNFFSwj/wAAFixDzbcVzKyZSUMvtG3IWAAAAA4BnqJ0R/8AAAMAAAMBqQAAABgBnqRqR/8AACK/BCcSyWmauFZrKTQnqCEAAAA8QZqpSahBbJlMCGf//p4QAAAJt7+NklTP5o77AJ1EFG/4rwows1okRcHcBxTbNQB89TelXMMK6WqzHdKFAAAAHkGex0UVLCP/AAADAS3kPNtxXMrJmQUODBRo7qtvQQAAACMBnuZ0R/8AAAT6NVUEB0I/sSDUnFYn+GVG5UEyz12VWly4IAAAACQBnuhqR/8AAAMB2sqwmjTm0qIjHJ2o/kefOjLb9FJlUqzKuCAAAAApQZrtSahBbJlMCGf//p4QAABDRSV38GG/2guVBB7HoeBftW8BlqPUqoEAAAAdQZ8LRRUsI/8AABYlKzdrWl6qNGIkQ/gp5xSTR1MAAAAbAZ8qdEf/AAAiwxdoqaUv9e+R+20xIssgQMmXAAAAEwGfLGpH/wAAAwHQf/PvDDz+MaEAAABCQZsxSahBbJlMCGf//p4QAABDVKs+4/yBb6Z25y3938SlImBGjQ/Ax/5FT6WWj4QAogtDQypUwiuP3MlXReF4reB9AAAAIkGfT0UVLCP/AAAWJSs3a2EpfYMF+2mSSb00QxpZoIk6x00AAAAjAZ9udEf/AAAiwxdoqaUv9fcp6Jsh6AUnm3wZ6NhIqASblwQAAAAZAZ9wakf/AAAE+T5g4G3b8T8RGfkotHMeCAAAAENBm3VJqEFsmUwIZ//+nhAAAEO6bz4wch03gJuSp4LAhxpJfcG+oVVoZQpkVzkZQIA3cSBaS1oigZgPWOte1vqVV1phAAAAJUGfk0UVLCP/AAAWLEPNtxXK9c7knRzf/3biwKmGZaCTo2ZUIWAAAAAaAZ+ydEf/AAAE2GfCGG1xHpuevXktHmaWEhYAAAAWAZ+0akf/AAAiscwJb6lvshVShPX9AwAAAEJBm7lJqEFsmUwIX//+jLAAAEIQwX8saho39boyiJX8WgdBbt3NMrYA4QqWkn/8PyiL6yXNgwNPbZfpOXQ5XLddN0AAAAAeQZ/XRRUsI/8AABWcTmzC2EsLSp407hwD6Qo8InTBAAAAIQGf9nRH/wAAAwCu5PnJl15SS0IrG0UEdXOmGf/y7rr+LQAAABoBn/hqR/8AACGyKwcTOOGoJyGe4gww6uXlPgAAAXFliIIADv/+906/AptFl2oDklcK9sqkJlm5UmsB8qYAAAMAAAMAAAMC2vR4kzvk1PE2AAADAQcAKGFTESEgFLG8KgSk0DYGPnClGCUqHY0fobWZDoJZ+IudvYXYPe6LTbtMPWGBva3K6vD/LbooYtBKu8RNZt2whKhCxokd8AFNY47cYiyk2ISSw0TpAkH1HvWVUXx/LeqIUuHWMMWcDfrDj2HDZHJX/QPZMJqnUFwY56d8DHPXkuV30rN2bvkFuNnC/4Tkof7IBeR27tGSo+ec435MAD86oKIPJQJvB7kqdlevvd+V9/GlwKsUmtOfntt3r4GbvJDA1iYrYva7XrmyNf1MfxzHktBKSSzWXvWkO6xEifXmw93lBqjgmCkioKPiInp26txXVD0gGfdcGErORj2RotNpzWRASAgLgZus2ZqETk68Df1cvA49depxt20DjCc1l/Upye3wSsXW4+AQCSI5C1ixIsAAAAMAAAMAQEEAAAA2QZokbEM//p4QAABBS0zfJhgHCupPdZWo1uvkMsSI4AQqQAqKTZX0NWyKw7XKzCM8XD0C2VhMAAAAI0GeQniP/wAAIbIrBbEWOw/N0jA6mwL7nsIwGZE5iQqNYOVBAAAAFgGeYXRH/wAAIcM+DnjYT0KsEF6ErcEAAAAcAZ5jakf/AAADAdB/828MPjqra9mMGV6fd2nKgAAAADhBmmhJqEFomUwIZ//+nhAAAEFUq051hJ8KZPflM3i24bCZIoD+TMLcby2VF05CI0bMsZg7+9nhUAAAACNBnoZFESwj/wAAFZxObKgkdXinbPiAdDP0kTmg6E9+Uaj7jwAAABoBnqV0R/8AAATYZ8HPGwn4pzMh98J9rmqGVAAAABQBnqdqR/8AACGyKwcTOOGoI8CJgQAAADFBmqxJqEFsmUwIZ//+nhAAAEFFJm/jj3IboaRXlnxM9N8ISwDec/CJi7X6KmUFoDKgAAAAIEGeykUVLCP/AAAVnE5swthLC0qeNO9hZlkgqc3p05mBAAAADgGe6XRH/wAAAwAAAwGpAAAAIwGe62pH/wAAIbIrBbEWOw/Nzs4dTQbueer9bY6AlxgnPT2fAAAASEGa8EmoQWyZTAhn//6eEAAAAwOJkxKuxGLoEADRvcXLczN0eZ2u+DEeqSO60dYPJho980HkgtOMFozUIF9/F87NSkGotcmoxQAAACFBnw5FFSwj/wAAAwElgUPC9toABdTK40ZVvN6XeousOOAAAAAZAZ8tdEf/AAADAdCxsPGNkAhqqyXsPYtNowAAAA4Bny9qR/8AAAMAAAMBqQAAAEdBmzRJqEFsmUwIZ//+nhAAAEFFJm9ZcG8DoArQUMWKpxYZiT6sDv5sFRMD1NP2VcWt8u55oKiDEdAI0eRZ9iZxHnXZOSWf2AAAADlBn1JFFSwj/wAAFZVYZ8AAcZU2MwwEYMiGUCw+x5TOqVnp9mbhLcAI3zriEBt1XO0K9VxhpPq+VyQAAAAbAZ9xdEf/AAAhrDkFrk8fExVOreeaDi5cR2kvAAAAJAGfc2pH/wAADJSdq2Nq0jDwrIi/nC72BT8dbNfpBcOY1tcuOQAAADxBm3hJqEFsmUwIZ//+nhAAAEFUqz7j/IFvpnbnLf3fxKlQuAFyQw0zm77xbPI1YkxFunAlkDMT5nOIol8AAAAaQZ+WRRUsI/8AABWVKzdrWl64oo/xrl+JyvgAAAAsAZ+1dEf/AAAhq/hbeAiXaILIDrVq8xB4e8CQgDvqjBZAD+Xq6B1IUqQmUYAAAAAOAZ+3akf/AAADAAADAakAAAA9QZu8SahBbJlMCGf//p4QAABBRSXM48A1ZqirF1Gsir6gmp/+1OXr9DNebcPYJERK4tR3XWB89NftJlryJgAAACxBn9pFFSwj/wAAFZUrN2s3cv0IN3FIAWzWLKySX0p8M+biZ4q4ToBKMU08kAAAABYBn/l0R/8AACHDF2ippVPU+8aF9WGhAAAAHAGf+2pH/wAAAwCxZhLPUyHJ1JfCRgxW4EJq5IAAAABOQZvgSahBbJlMCGf//p4QAABBgs+cam563I4gA5xI2pGLUMqfxWPoZIQp51zpzQhwLyYOf6TsFINYuCukan+3Ml1rnLAA6vk3UlTu3culAAAAKkGeHkUVLCP/AAAVlSs3M4QJZRJ0bZjK5yc0veQ0yURG0ymhz5Y4IonccQAAACYBnj10R/8AACHDF2ipsAMO0yW51pduP+Mp6ZyMKy5un8UUxibkgAAAACUBnj9qR/8AACHHvYsZv8uAgnP/TlnOCuPpFrz6yYIcN9Qf9YVJAAAAR0GaJEmoQWyZTAhn//6eEAAAQUUlnyNPMQy6uppWwAg3tgZgzlbDyzaZjYmtStvQoRKjlAnMCfopf02A4RS6gjH0OkxOilSAAAAALEGeQkUVLCP/AAAVnEPNt9RtEgALUno64op9FYBw5fwa2UEiaiLToIBV3ocdAAAAEwGeYXRH/wAADI4S8yWPj+r5ojcAAAAdAZ5jakf/AAAhvwQnEslpmrhWUx8qO34vrY0ElGAAAAA5QZpoSahBbJlMCGf//p4QAAAJKB6WNU5NXhMcGAAQ2pMmBT0DrvdtXNqJ7tHtVmtzSc54Ic+c6aBAAAAAH0GehkUVLCP/AAADAv0xzaO3lnEjvUs51NopW0dMRUEAAAApAZ6ldEf/AAAE0+JgOE1TgUHK1f1ACWE+QZ48RdVQRQOK62eho+rC244AAAAaAZ6nakf/AAAEtkVht2RnbRcJyb7+27VqUYEAAAA+QZqsSahBbJlMCGf//p4QAABBRSi0AOfTar72sjXD17mQpalx/BqnHtkN8vZkSwmewRpj/ucvVVlps3ARQoAAAAAlQZ7KRRUsI/8AABWVKzdrWWaIuQFrMdFqR0XL45lG/AhLygTuOQAAABcBnul0R/8AACHDF2ippVPU+8J2xxDjgQAAABsBnutqR/8AAAS341nnBuRqgkgb6PDoJHCRk7cAAAAtQZrwSahBbJlMCGf//p4QAABBVKs+4/yBb6Z45opuIr2ijqXGHucDWqmcCDehAAAAGkGfDkUVLCP/AAAVlSs3a1peuKKF7eW9m0NSAAAAKAGfLXRH/wAAIcMXaKmlq/pjKPxoWIfQgTtRNyeMo4aN6dPo3J083yYAAAAQAZ8vakf/AAADABkpPCh8wQAAAFBBmzRJqEFsmUwIZ//+nhAAAEFUq23AC/NWuw8JyNcSUkHVDqnM95eewKfZ7Rpk6RE8S1qT5uh7Yor7ParApowA6Ry3yy8MyPNPVT1iwugywAAAACBBn1JFFSwj/wAAFZxDzbcVzKyZST4HjIjtHHVXrocowAAAABABn3F0R/8AAAMAGRwn2J2BAAAAIgGfc2pH/wAAIbHMCW/Bw5yr6KNOm6vHvpi9DVOgYhlIlGEAAAA0QZt4SahBbJlMCGf//p4QAABBRSWU+QwtanRPcbbzjWov5OCgO+o8R8IAre/VwF1LAw2DxwAAABpBn5ZFFSwj/wAAFZxDzbcVzKyZSUMzrriihgAAACoBn7V0R/8AAATXWpnbcBUOpCJ60s+XHg8AE3TAqOeKD17g/2t44kQRqqYAAAAXAZ+3akf/AAAhscwJb6lvshWcT9xKoVsAAAA3QZu8SahBbJlMCGf//p4QAAAJd7+NklTP5o77C83tXs1oFTTUEHukuFCr0nVAIJnav76uie7n7QAAACpBn9pFFSwj/wAAAwMQUwow0CAxLKiSaYupZ+RxhbbJQAC6y9GkRLbVx5MAAAAaAZ/5dEf/AAAE1YcgtX4+saKlx9716xgZ3HEAAAAbAZ/7akf/AAADAcV/1Xe24hqhRFvovP42CeuOAAAAMEGb4EmoQWyZTAhn//6eEAAAQUUotADnps5qbvz3NsYPAHqbn2qxz3lwZQaKbcCdgQAAACJBnh5FFSwj/wAAFZUrN2taXqo0Y1NAGgfwkpWKN4bsUJWBAAAANQGePXRH/wAAIav4W3gUC29jAhx1pBaJUdqutzIJkXVHqAAW9OknPB2PYTPbKgCCfko+XHVgAAAAEwGeP2pH/wAAAwHFf/PvDDz+MuEAAABDQZokSahBbJlMCGf//p4QAABBVKs+4/yBb6Z4FfPVX6E7EAAFymKSS4Cx+n7RZ2oZsvnZBDzmCVFRwZ2wiG9E2Un/QgAAAC9BnkJFFSwj/wAAFZxDzbcVyvXON/EWPq1kggB/BELdQYrc8dznUCNWsm0iYvvpFQAAABoBnmF0R/8AAAMAsQpNNhCnMfVmC3RKRC+5IQAAACQBnmNqR/8AACGxzAlvpZNAOkaCgcy0F1P/CWeMvcvXF9LWIioAAAA1QZpoSahBbJlMCGf//p4QAABBum8+MHIdN4OxkAF8uVjSOmgXG8vTbMrsCX9cE4mxEOXNb0AAAAAcQZ6GRRUsI/8AABWcQ823FcysmUlCgxin2kJmNQAAAA4BnqV0R/8AAAMAAAMBqQAAAB8BnqdqR/8AACGxzAlvqW+yFVPsPVOuE/GOZF1EpmNBAAAAQ0GarEmoQWyZTAhn//6eEAAAP2dKnTvP3K1iMeY7XKeiR/9N/WsQB+2VFgCn4wOMLFVAseldjXO34pREwQaoXL+AEoAAAAApQZ7KRRUsI/8AABUMTmzC2EsPTmoOFLJM0ZyAFnAsqhaNAKld+t2vxUkAAAAeAZ7pdEf/AAADAEGjUDJTk7EreBYW7Qr5jTTDKoknAAAAOAGe62pH/wAAILIrBbEWOxbgloALRphAWPXjU5Pi5mc77M3NYO6rd9uYSg1cPGQkKvF+EMaQgkuPAAAAL0Ga8EmoQWyZTAhn//6eEAAAP2dKnOfgJh3YOIdYUKSq66mb9OIIxMAFh36FNSthAAAAGEGfDkUVLCP/AAAVDE5swthLC0vohT1vQAAAAA4Bny10R/8AAAMAAAMBqQAAABMBny9qR/8AACCyKwcTOOGpPCdhAAAAQ0GbNEmoQWyZTAhn//6eEAAAAwNzkvs6KRKYGVQvZMbQD3c/SxPpRqu5ubfloArL+ysdQA6LBIVvDm+vO8KXQ28xOvQAAAAnQZ9SRRUsI/8AAAMC8+5BBHhVwLK1iYWb5uolSf/xjMk0bMh/YKWpAAAAGgGfcXRH/wAABLWHILXJ4/ATCOEQhukbA7phAAAAGwGfc2pH/wAABLfjWc97wTgYt9wV87hAZDoBwQAAACRBm3hJqEFsmUwIZ//+nhAAAD9fZQ4jYXebPzEpo7Ut27jgrYEAAAAaQZ+WRRUsI/8AABUFWFWKzkAJqyqPlCZPn/gAAAAWAZ+1dEf/AAAgrDkFrk8fWkuL5nRrYAAAABABn7dqR/8AAAMAA2EnhXTBAAAASkGbvEmoQWyZTAhn//6eEAAAP2p5mYgEs0zeUnreDkUtWgA2oYJpySBPdXMpSBNYyxj9n6LqM4Y43eBh59PzWR7hN2SpbFERIi3AAAAAJ0Gf2kUVLCP/AAAVDE5ssv6ZWVgVbh3oqCUPbh6yhsmnC8O5mXV0wAAAABoBn/l0R/8AAAMBxIoeZLH2vFlFHfgdMDkQBwAAACIBn/tqR/8AACCyKwIDno42iN7EwUfmXPx/Mkh+vL+qKpEfAAAALUGb4EmoQWyZTAhn//6eEAAAP19nIoA/QQRuRbURupdfPejijvm4T2XgRepIwQAAABhBnh5FFSwj/wAAFQxObMLYS1ouLfv0K2EAAAAQAZ49dEf/AAADAKyLfsC4gAAAABQBnj9qR/8AACCyKwcTOOGoI8CNgQAAAElBmiRJqEFsmUwIZ//+nhAAAD9nSnxu6CRK0aKs7VOTNlCddrb2Er5RxWT4NLQBstWMqL3o19E8r/ph9ija/j4BnZmZ9qeO6ju7AAAAH0GeQkUVLCP/AAAVDEPNtxXMrJlJPgdCisuHnv/Ucq0AAAAOAZ5hdEf/AAADAAADAakAAAAdAZ5jakf/AAAgvwQnEslpmrhWUx8qO34vrY0ElWAAAAAXQZpoSahBbJlMCGf//p4QAAADAAADAz4AAAAQQZ6GRRUsI/8AAAMAAAMBBwAAAA4BnqV0R/8AAAMAAAMBqQAAAA4BnqdqR/8AAAMAAAMBqQAAAERBmqxJqEFsmUwIZ//+nhAAAD9fZJttIBrkWq1iRX+D1ZRMj/5m3N+YNcphp8kIhw6cn/eVHUepQ/OLz/rIfyaeyso/lAAAACpBnspFFSwj/wAAFQUrN2tV6TmFtu4pADjyjSFVfVxp2wvqzZmONK6vDykAAAAbAZ7pdEf/AAAgq/hbeBKdZFrUPdG+XCJnQJGBAAAAIAGe62pH/wAAAwCs9nvV1yf+8IMSGF5ofODXjnnnXdSBAAAAO0Ga8EmoQWyZTAhn//6eEAAAP2p5iqbm/BMCGXAIIayoxJjE9DjU2OCCsj9ACLTg3H65zWbiVOaJkLuNAAAAJUGfDkUVLCP/AAAVBSs3a1XpOYW2PLowRcow0PlVijVK+Wrmu6YAAAAaAZ8tdEf/AAAgq/hbeBKdMgmIcXo1/ob4asAAAAAZAZ8vakf/AAAEtkVg4G3b8T8RGfkotHMemQAAADVBmzRJqEFsmUwIZ//+nhAAAD9fZHerQwtbL6Ejon4AQv4FcRRwCw/ywJIGwF7PeCUS/V0lgAAAAB9Bn1JFFSwj/wAAFQxDzbcVzKyZST4HQorLh57/1HKsAAAADgGfcXRH/wAAAwAAAwGpAAAAIAGfc2pH/wAAILHMCW+XWu4KYOWDiq8qY02JKwQnUWlXAAAAPEGbeEmoQWyZTAhn//6eEAAACOgeljVOTVS2BCs7ABB6kyYEM8ezRbpNq+0+dmrq3CqExruInEHnNCrBgQAAAB1Bn5ZFFSwj/wAAAwLoqwrl69Eb9c/O06sCJPCumAAAABsBn7V0R/8AAAMBucK4ToCRiShzRXl6uoLmxHwAAAAOAZ+3akf/AAADAAADAakAAAAzQZu8SahBbJlMCGf//p4QAAA/X2Z/AIpTk5vapLlhNAL3bjGr+YCs4ySUu+mJlSXZEcLmAAAAJUGf2kUVLCP/AAAVBSs3a1lmiLkBatHZGgHi5Jgx/bcCEvKBO6YAAAAXAZ/5dEf/AAAgq/hbeBKdaCOIJciWIWEAAAAbAZ/7akf/AAAEl+NZ5wbkaoJIG+jw6CRwkZPKAAAALUGb4EmoQWyZTAhn//6eEAAAP2p5iqbm/Lv8XYXxf5sqgyiJq6cIlnt2PS+QcQAAABpBnh5FFSwj/wAAFQUrN2taXriihe3lvZtDZwAAABcBnj10R/8AACDDF2ippVPU+8J2xxDpgAAAABABnj9qR/8AAAMAGIk8KH+BAAAAOUGaJEmoQWyZTAhn//6eEAAAP2p5jUxTc42O0JfisAP90RwYGvrU74heniarAA/ipZmxzLHXZaLvOAAAACNBnkJFFSwj/wAAFQxDzbcVzYIM1oqXIQ5/JY/n3hVqO9sXTQAAABwBnmF0R/8AAASYZ8IYbXEelLTTfftoAJoFixHxAAAAJAGeY2pH/wAAILHMCW/Bw5yr6THLp3aXIt3G2NZqvDwgRuvpgAAAADRBmmhJqEFsmUwIZ//+nhAAAD9nSnxu6CRKOIjIxSBPc7vTgXuxW/JCSA4YU00ALDv1dIL2AAAAGkGehkUVLCP/AAAVDEPNtxXMrJlJQy+0bcjZAAAADgGepXRH/wAAAwAAAwGpAAAAFgGep2pH/wAAILHMCW+pb7IVltssNWEAAABNQZqsSahBbJlMCGf//p4QAAAJN7+NklY6ZtdeSElEDcDmATKLWIVkn6gDk7kASgage/t2hHWBskjZgU0M1+13yOQcW3BcIGzpXSI43XAAAAAcQZ7KRRUsI/8AAAMC/FMKsOF+dEtgLqfrmjGnpwAAABsBnul0R/8AAAMBxbIePK+jpSS1IG0LIndBhH0AAAAdAZ7rakf/AAAEtLCPNyWGditSdOs12kvIUsa/dMEAAABKQZrwSahBbJlMCGf//p4QAAA/X2Z/AIpTZzU3fn1qiGoWm9RwF6x7fgplADp/BodZGdJpVtZkXEnxn/chQRNjEhyQZjWHsM2X//8AAAAdQZ8ORRUsI/8AABUFKzdrWl64ooPCMLA53Meah5QAAAAiAZ8tdEf/AAAgwxdoqaUv9gG7l/ODtqoQ/O4JpoUe4Dw8oAAAAA4Bny9qR/8AAAMAAAMBqQAAADdBmzRJqEFsmUwIZ//+nhAAAD9qeYqrDQD9qAE8eEZI7AeeugTRWigwpCxnYETd8GaTfkuLifuAAAAAI0GfUkUVLCP/AAAVDEPNtxXK9c7knRzf/3biwM+e1CssoFmAAAAAGgGfcXRH/wAABJhnwhhtcR6bnr15LR5mlhI/AAAAJAGfc2pH/wAAILHMCW/BwjzK2eEFZUV4rBKC0UL3mnu+JVqemQAAADxBm3hJqEFsmUwIZ//+nhAAAD++xskGxishOVAF4I5PYotLTXqWutYOwIxsGjFoyW9066686lSQ+B/uhj0AAAAaQZ+WRRUsI/8AABUMQ823FcysmUlDM664opoAAAAOAZ+1dEf/AAADAAADAakAAAAYAZ+3akf/AAAgscwJb6lvshWzBL0xLYatAAAAWkGbvEmoQWyZTAhn//6eEAAAGJ9jwVwaE9oZ7Nt1oaH/wABctQYh5ojNKvdEvoSeRhxe6rqdwUE2mMsg2GkkppGAKTj44VxhpOxWD4mvg/2eIVY/hYQzRaWq4AAAACBBn9pFFSwj/wAAB8QGhLTC/OiVI/WVKCGBdu7gAszw2AAAACQBn/l0R/8AAAyOEvMlEpUb0FVVwMDf9ayeIvfJwzRelASrn7kAAAAgAZ/7akf/AAADAbrx9fj992+y4kDB1bCc4Sg6JsnhrKsAAAA1QZvgSahBbJlMCGf//p4QAAA9/2UOI2GAs9WRBABlYq9gBB2S8Bdz3gzrPb1esyli+vGQBl0AAAAZQZ4eRRUsI/8AABR1WFWKzj/YoRkWuuVP0wAAABcBnj10R/8AAB+4oeZLHx/V5J8Hv5ZP0gAAABABnj9qR/8AAAMAA4r/xW9BAAAAR0GaJEmoQWyZTAhn//6eEAAAPgp5mYgEnwq2/haKkXFdIGfM1BjicfdCjNQAiKtoGIqhg+VESepJ+pmLvAP+xFCweXVzU/ngAAAAHUGeQkUVLCP/AAAUdVhVis4/2KEZF+GEBjAKmozBAAAAJAGeYXRH/wAAH7ih5gs+EG85fz4u0/M/N3J4im+we9H7dVOGpQAAACkBnmNqR/8AAAMAp6dYIgAEsTiDtCSlBlll/LzZ1wjyfpxxkZuJQdR3QAAAADJBmmhJqEFsmUwIX//+jLAAAD5dxw+LeZ6sa8Mjv27THRv472qtJcDWq2+pROdC43c2gAAAADVBnoZFFSwj/wAAFHxOAdFQA//rtXgA2lDaQqgXSrL6i7MKrNF6/zBaJjrmXzPhO759mS2L0QAAAB0BnqV0R/8AAAMBucK45P7qPb0fiePwM847/u+7oAAAABcBnqdqR/8AAB/H/VbGss7Fk/Q8AWAtoQAAADtBmqxJqEFsmUwIX//+jLAAAAMBSfYOHT01R//TeznioS7dkHjyF5zIE6a2E11csrS+bWEJFurubSqy6AAAAB9BnspFFSwj/wAAAwLm/42yTNEKJWid7zUX/bQU8u6BAAAAGQGe6XRH/wAABJhnwc8bCfinMyH43S6YmAEAAAAcAZ7rakf/AAAElkVhFA6pug3dwJRVZGNg3/bugQAAAClBmvBJqEFsmUwIX//+jLAAAD5dyiAAa8J+2gQEa2ZkPNylbZcdXahjwQAAABhBnw5FFSwj/wAAFHVYVYrOP9jYnSkTI2AAAAAVAZ8tdEf/AAAfuKHmSx8f1eR0J5GwAAAAEAGfL2pH/wAAAwAX6Twog4EAAABCQZsxSahBbJlMCGf//p4QAAA+CnmZiA86ACV204YETpld1L50gbCX8vUPxaC4c9A4XqfZ4NQ5XayV7GjlKEiNHFm4AAAAQ0GbVUnhClJlMCGf/p4QAAAI97+NklY62kYAceRcw5UPrbaAUlsnZOJTEJsnm2j/t2hWSu99dAwFt+qVHk0HIHB/b4AAAAAnQZ9zRTRMI/8AAAMC6KsKsT18jGZVI/s5egfmhYd7WUtkVNZ0g9aNAAAAIwGfknRH/wAABJWHILW3C9HeorBFcoA0FHfdt5oW2JKGx/uhAAAADgGflGpH/wAAAwAAAwGpAAAAOkGbmUmoQWiZTAhn//6eEAAAPf9mfwCLDSCndvw/esrxAhcD1fh7TllzaRxZy7PKZQAk66wmOcGubXcAAAAaQZ+3RREsI/8AABR1KzdrWl64o31KnddoeNwAAAAYAZ/WdEf/AAAfyvjyqaVT1PvGhek1qIGBAAAADgGf2GpH/wAAAwAAAwGpAAAARUGb3UmoQWyZTAhn//6eEAAAPgp5iqnGA1f1CUUmGFgTM1TY2uo01+GYUJ1VN+J94cWsOAI4XQfmU+BaN8ZeSuom4CnC1AAAACdBn/tFFSwj/wAAFHxDzbK+xHihW6E8F6wjBRyZTS5xn7auljGcq7sAAAAlAZ4adEf/AAAElYMdsWVh03xWLzLj3ue6ygUGSkBArDQO+5zu6AAAABcBnhxqR/8AAB/H6WyfKWmauFZVFuaCpwAAABdBmgFJqEFsmUwIZ//+nhAAAAMAAAMDPwAAABBBnj9FFSwj/wAAAwAAAwEHAAAADgGeXnRH/wAAAwAAAwGpAAAADgGeQGpH/wAAAwAAAwGpAAAAV0GaRUmoQWyZTAhn//6eEAAAPhc1PLEL+tAADRoTzSLVYgYv2i//KI5kXhCqVHYcmvLnI7XU/BkGuy5Ql/Ea/al0eioJmwFUNObrvv7BMf97jQfDJvvKyQAAACNBnmNFFSwj/wAAFHUrN2ta/5EBv0Xj0jfYrP12x5R4aMM+0QAAABwBnoJ0R/8AAB+4fabCFOXkUgQIz1yNAe6F+ZXdAAAAEwGehGpH/wAABHfjWc97wTdFI2AAAAAzQZqJSahBbJlMCGf//p4QAAA+CnmKpub8EwIZcAghrKjEmMUzTUjDD10qFge+lXn8JHbBAAAAJEGep0UVLCP/AAAUdSs3a2Eo/OAjmJr5yIjZytW0FIadmkzPbAAAABoBnsZ0R/8AAB/K+PKppav6YykNIVeYU+BKwQAAACYBnshqR/8AAAMBupO2BvAC260JebIOsNEsWX6tvMIBkgHOyOO7YAAAADlBms1JqEFsmUwIZ//+nhAAAD3/Zn8Au+tWbbuFqhxLu5ClqVS55DrU/XY797xfmdBHZxaGKwMv53MAAAAkQZ7rRRUsI/8AABR8Q823Fc2CCChrLcudZyO4mRzAhtMSRlehAAAAHQGfCnRH/wAAAwGvwrhOgIvh8yDdo8ePW1aPm57RAAAAFwGfDGpH/wAAH8fpbJ8paZq4XajENQk5AAAAF0GbEUmoQWyZTAhn//6eEAAAAwAAAwM+AAAAEEGfL0UVLCP/AAADAAADAQcAAAAOAZ9OdEf/AAADAAADAakAAAAOAZ9Qakf/AAADAAADAakAAABAQZtVSahBbJlMCGf//p4QAAA9/2SbbSAMNuAEWW7j7lVMgM58zbm/MGuVsSmQKpVYKRmFIkdwMTJO0kdXoEoj2AAAAB1Bn3NFFSwj/wAAFHUrN2taXriig8IwsDncx5qHtQAAABwBn5J0R/8AAB+4fabCFOXkUgQIz1yNAe6F+ZXdAAAADgGflGpH/wAAAwAAAwGpAAAAKEGbmUmoQWyZTAhn//6eEAAAPgp5kd/F8XvMwIb2lMh96aUX+zDms4IAAAAaQZ+3RRUsI/8AABR1KzdrWl64gS0utWAjgSsAAAAWAZ/WdEf/AAAfyvjyqaVT1PvGhfVhtQAAACUBn9hqR/8AAAMACSuYe20rETl6zMDoATIMn9reOJEDzGLDvzPaAAAAPUGb3UmoQWyZTAhn//6eEAAAPf9kuqis2gII2flqXNcaacGJTa2GiarzEzEd4DXL0FE1lf2wS9wnnLL0XSMAAAAzQZ/7RRUsI/8AABR8Q823JoAAbqMEk9AaaXdft5VUVyUXsWR76IubmN89t+bENmCLdO6BAAAAIwGeGnRH/wAABJWDHbFlYeB8snRvbNa+1Y4PMeuxxw78ZXdAAAAAHAGeHGpH/wAAH8fpbJ8paZqW8H1skRIbfQMi86cAAAA1QZoBSahBbJlMCGf//p4QAAA+B0p8hyQDRhaCYXk3CfPiOxA6tP728Ww2n7xjv6/ga9YZ5cEAAAAiQZ4/RRUsI/8AABR8Q80cshO38FrflKIPJvG1aTzgN6toOAAAABMBnl50R/8AAAw+EvMlj4/q+aJHAAAAJgGeQGpH/wAAH8fpbJ8pYshd1gzcJMmHUv4Uf+EceNpvZKHgH1EpAAAAOkGaRUmoQWyZTAhn//6eEAAACPe/jZpsw9NAAWBNoXa5zoW7EjLnLzIbT4BA3pAGBMVaIaeRDO8ki2kAAAAfQZ5jRRUsI/8AAAMC6KpRhH4UeEpPozvfCYJN4D/d0QAAABoBnoJ0R/8AAASVhyC1fj6xoqXH3vXrGBnd0AAAABIBnoRqR/8AAAMBupPvGDtAYsAAAAA/QZqJSahBbJlMCF///oywAAA+XcXeUmALvoydI41e7MoZLo7xbwpmGi3WCafiyMY/i9JQiYIDMxvGRsl136mBAAAAI0Gep0UVLCP/AAAUdSs3a2EpIWyKdCxgRdpl06NxST/4q57YAAAAGQGexnRH/wAAH8r48qmlU4Ehb7UZ3wrBhtUAAAAZAZ7Iakf/AAAElkVg4G3b8T8RGfkotHMe2AAAAD5Bms1JqEFsmUwIX//+jLAAAD68Jz/d7pgkgFHuSenhb4aUuZG9Y2z4gyJyQ0xC2x8ILCVHYHNU9KTJWIFS9QAAADdBnutFFSwj/wAAFHxDzbcVyvXO5Cpby5AGVbfNg38QnThC1IO38ODWBTVKiIRSXffF2V0aVT91AAAAGwGfCnRH/wAAAwCoCk0qTk9FNnW0yMBKcT3d0QAAABsBnwxqR/8AAB/H6WyfKWmalvB3P1yfMvqzj8kAAAAXQZsRSahBbJlMCF///oywAAADAAADA0IAAAAQQZ8vRRUsI/8AAAMAAAMBBwAAAA4Bn050R/8AAAMAAAMBqQAAACMBn1BqR/8AAAMAoWcS0VDS1Wuds9M3nFWx4M/8pJZY4nT2gAAAAC1Bm1VJqEFsmUwIV//+OEAAAOzpSvWao2B8XfeLJ+iqSrO94DpHUgi1idwUgbAAAAAbQZ9zRRUsI/8AABPlWFWKzj/YoRkVpt3cvAfdAAAAGgGfknRH/wAAHwih5ksfH9Xknwen04MRfFYZAAAADgGflGpH/wAAAwAAAwGpAAAAJUGbmUmoQWyZTAhH//3hAAADA56D/RttVAEX00UUy5devMvPgXcAAAAXQZ+3RRUsI/8AABPlWFWKzj+2nMJwh4AAAAATAZ/WdEf/AAAfGxsPGNhPQs+FNQAAACABn9hqR/8AAAR45le+0cYCYX+2oMc+PyUWv6PoX4x6QAAAATtliIQAK//+9nN8CmtHM5UuBXb3ZqPl0JLl+xBg+tAAAAMAAAMAAE3FRM6LCmPE2QAAAwBcQBHgsAjwlQthIR9jk/E4t3MkAAXKVwrgdfeFQR/kZk0sG7OUBZ05bsCG2d122uv4d/pRvnT72deamPymmXoWY0O7QE5wJ0gR5T6BivQ5CVLqJmLs38EiKFzc4RXX93fGO924oRuuOnUVv05/dtsGDxObgOQdLPI+33sGQFBevaJOZ4N7Zi5Uq78Qw+Ca3V+h4rw5X95wKEzFtxhmeEipQO+EN/ELDSKC5dwA4s1+6eYkawKr9R7LG6AgFq4I+6xhKf3+/oc91Al3AsQDcmXhXn5bw3RrAAAn2h69hLx4ejhaDVcNgewfcH+ipVu/83CyeXN6F6gADCPcGAn5gAAGWAAAAwAANqAAABqHbW9vdgAAAGxtdmhkAAAAAAAAAAAAAAAAAAAD6AAAJyQAAQAAAQAAAAAAAAAAAAAAAAEAAAAAAAAAAAAAAAAAAAABAAAAAAAAAAAAAAAAAABAAAAAAAAAAAAAAAAAAAAAAAAAAAAAAAAAAAAAAAAAAgAAGbF0cmFrAAAAXHRraGQAAAADAAAAAAAAAAAAAAABAAAAAAAAJyQAAAAAAAAAAAAAAAAAAAAAAAEAAAAAAAAAAAAAAAAAAAABAAAAAAAAAAAAAAAAAABAAAAAAlgAAAGQAAAAAAAkZWR0cwAAABxlbHN0AAAAAAAAAAEAACckAAACAAABAAAAABkpbWRpYQAAACBtZGhkAAAAAAAAAAAAAAAAAAAyAAAB9QBVxAAAAAAALWhkbHIAAAAAAAAAAHZpZGUAAAAAAAAAAAAAAABWaWRlb0hhbmRsZXIAAAAY1G1pbmYAAAAUdm1oZAAAAAEAAAAAAAAAAAAAACRkaW5mAAAAHGRyZWYAAAAAAAAAAQAAAAx1cmwgAAAAAQAAGJRzdGJsAAAAmHN0c2QAAAAAAAAAAQAAAIhhdmMxAAAAAAAAAAEAAAAAAAAAAAAAAAAAAAAAAlgBkABIAAAASAAAAAAAAAABAAAAAAAAAAAAAAAAAAAAAAAAAAAAAAAAAAAAAAAAAAAAGP//AAAAMmF2Y0MBZAAf/+EAGWdkAB+s2UCYM+XhAAADAAEAAAMAZA8YMZYBAAZo6+PLIsAAAAAYc3R0cwAAAAAAAAABAAAB9QAAAQAAAAAcc3RzcwAAAAAAAAADAAAAAQAAAPsAAAH1AAAPqGN0dHMAAAAAAAAB8wAAAAEAAAIAAAAAAQAABQAAAAABAAACAAAAAAEAAAAAAAAAAQAAAQAAAAABAAAFAAAAAAEAAAIAAAAAAQAAAAAAAAABAAABAAAAAAEAAAMAAAAAAQAAAQAAAAABAAADAAAAAAEAAAEAAAAAAQAAAwAAAAABAAABAAAAAAEAAAUAAAAAAQAAAgAAAAABAAAAAAAAAAEAAAEAAAAAAQAABQAAAAABAAACAAAAAAEAAAAAAAAAAQAAAQAAAAABAAAFAAAAAAEAAAIAAAAAAQAAAAAAAAABAAABAAAAAAEAAAUAAAAAAQAAAgAAAAABAAAAAAAAAAEAAAEAAAAAAQAABAAAAAACAAABAAAAAAEAAAUAAAAAAQAAAgAAAAABAAAAAAAAAAEAAAEAAAAAAQAABQAAAAABAAACAAAAAAEAAAAAAAAAAQAAAQAAAAABAAAFAAAAAAEAAAIAAAAAAQAAAAAAAAABAAABAAAAAAEAAAUAAAAAAQAAAgAAAAABAAAAAAAAAAEAAAEAAAAAAQAABQAAAAABAAACAAAAAAEAAAAAAAAAAQAAAQAAAAABAAAFAAAAAAEAAAIAAAAAAQAAAAAAAAABAAABAAAAAAEAAAUAAAAAAQAAAgAAAAABAAAAAAAAAAEAAAEAAAAAAQAAAwAAAAABAAABAAAAAAEAAAQAAAAAAgAAAQAAAAABAAAFAAAAAAEAAAIAAAAAAQAAAAAAAAABAAABAAAAAAEAAAUAAAAAAQAAAgAAAAABAAAAAAAAAAEAAAEAAAAAAQAABQAAAAABAAACAAAAAAEAAAAAAAAAAQAAAQAAAAABAAAFAAAAAAEAAAIAAAAAAQAAAAAAAAABAAABAAAAAAEAAAUAAAAAAQAAAgAAAAABAAAAAAAAAAEAAAEAAAAAAQAABQAAAAABAAACAAAAAAEAAAAAAAAAAQAAAQAAAAABAAAFAAAAAAEAAAIAAAAAAQAAAAAAAAABAAABAAAAAAEAAAUAAAAAAQAAAgAAAAABAAAAAAAAAAEAAAEAAAAAAQAABQAAAAABAAACAAAAAAEAAAAAAAAAAQAAAQAAAAABAAAFAAAAAAEAAAIAAAAAAQAAAAAAAAABAAABAAAAAAEAAAUAAAAAAQAAAgAAAAABAAAAAAAAAAEAAAEAAAAAAQAABQAAAAABAAACAAAAAAEAAAAAAAAAAQAAAQAAAAABAAAFAAAAAAEAAAIAAAAAAQAAAAAAAAABAAABAAAAAAEAAAUAAAAAAQAAAgAAAAABAAAAAAAAAAEAAAEAAAAAAQAABQAAAAABAAACAAAAAAEAAAAAAAAAAQAAAQAAAAABAAAFAAAAAAEAAAIAAAAAAQAAAAAAAAABAAABAAAAAAEAAAUAAAAAAQAAAgAAAAABAAAAAAAAAAEAAAEAAAAAAQAABQAAAAABAAACAAAAAAEAAAAAAAAAAQAAAQAAAAABAAAFAAAAAAEAAAIAAAAAAQAAAAAAAAABAAABAAAAAAEAAAUAAAAAAQAAAgAAAAABAAAAAAAAAAEAAAEAAAAAAQAABQAAAAABAAACAAAAAAEAAAAAAAAAAQAAAQAAAAABAAAFAAAAAAEAAAIAAAAAAQAAAAAAAAABAAABAAAAAAEAAAUAAAAAAQAAAgAAAAABAAAAAAAAAAEAAAEAAAAAAQAABQAAAAABAAACAAAAAAEAAAAAAAAAAQAAAQAAAAABAAAFAAAAAAEAAAIAAAAAAQAAAAAAAAABAAABAAAAAAEAAAUAAAAAAQAAAgAAAAABAAAAAAAAAAEAAAEAAAAAAQAABQAAAAABAAACAAAAAAEAAAAAAAAAAQAAAQAAAAABAAADAAAAAAEAAAEAAAAAAQAABQAAAAABAAACAAAAAAEAAAAAAAAAAQAAAQAAAAABAAAFAAAAAAEAAAIAAAAAAQAAAAAAAAABAAABAAAAAAEAAAUAAAAAAQAAAgAAAAABAAAAAAAAAAEAAAEAAAAAAQAAAgAAAAABAAAFAAAAAAEAAAIAAAAAAQAAAAAAAAABAAABAAAAAAEAAAUAAAAAAQAAAgAAAAABAAAAAAAAAAEAAAEAAAAAAQAABQAAAAABAAACAAAAAAEAAAAAAAAAAQAAAQAAAAABAAAFAAAAAAEAAAIAAAAAAQAAAAAAAAABAAABAAAAAAEAAAUAAAAAAQAAAgAAAAABAAAAAAAAAAEAAAEAAAAAAQAABQAAAAABAAACAAAAAAEAAAAAAAAAAQAAAQAAAAABAAAFAAAAAAEAAAIAAAAAAQAAAAAAAAABAAABAAAAAAEAAAUAAAAAAQAAAgAAAAABAAAAAAAAAAEAAAEAAAAAAQAABQAAAAABAAACAAAAAAEAAAAAAAAAAQAAAQAAAAABAAAFAAAAAAEAAAIAAAAAAQAAAAAAAAABAAABAAAAAAEAAAUAAAAAAQAAAgAAAAABAAAAAAAAAAEAAAEAAAAAAQAABQAAAAABAAACAAAAAAEAAAAAAAAAAQAAAQAAAAABAAAFAAAAAAEAAAIAAAAAAQAAAAAAAAABAAABAAAAAAEAAAUAAAAAAQAAAgAAAAABAAAAAAAAAAEAAAEAAAAAAQAABQAAAAABAAACAAAAAAEAAAAAAAAAAQAAAQAAAAABAAACAAAAAAEAAAUAAAAAAQAAAgAAAAABAAAAAAAAAAEAAAEAAAAAAQAABQAAAAABAAACAAAAAAEAAAAAAAAAAQAAAQAAAAABAAAFAAAAAAEAAAIAAAAAAQAAAAAAAAABAAABAAAAAAEAAAUAAAAAAQAAAgAAAAABAAAAAAAAAAEAAAEAAAAAAQAABQAAAAABAAACAAAAAAEAAAAAAAAAAQAAAQAAAAABAAAFAAAAAAEAAAIAAAAAAQAAAAAAAAABAAABAAAAAAEAAAUAAAAAAQAAAgAAAAABAAAAAAAAAAEAAAEAAAAAAQAABQAAAAABAAACAAAAAAEAAAAAAAAAAQAAAQAAAAABAAAFAAAAAAEAAAIAAAAAAQAAAAAAAAABAAABAAAAAAEAAAUAAAAAAQAAAgAAAAABAAAAAAAAAAEAAAEAAAAAAQAABQAAAAABAAACAAAAAAEAAAAAAAAAAQAAAQAAAAABAAAFAAAAAAEAAAIAAAAAAQAAAAAAAAABAAABAAAAAAEAAAUAAAAAAQAAAgAAAAABAAAAAAAAAAEAAAEAAAAAAQAABQAAAAABAAACAAAAAAEAAAAAAAAAAQAAAQAAAAABAAAFAAAAAAEAAAIAAAAAAQAAAAAAAAABAAABAAAAAAEAAAUAAAAAAQAAAgAAAAABAAAAAAAAAAEAAAEAAAAAAQAABQAAAAABAAACAAAAAAEAAAAAAAAAAQAAAQAAAAABAAAFAAAAAAEAAAIAAAAAAQAAAAAAAAABAAABAAAAAAEAAAUAAAAAAQAAAgAAAAABAAAAAAAAAAEAAAEAAAAAAQAABQAAAAABAAACAAAAAAEAAAAAAAAAAQAAAQAAAAABAAAFAAAAAAEAAAIAAAAAAQAAAAAAAAABAAABAAAAAAEAAAUAAAAAAQAAAgAAAAABAAAAAAAAAAEAAAEAAAAAAQAABQAAAAABAAACAAAAAAEAAAAAAAAAAQAAAQAAAAABAAAFAAAAAAEAAAIAAAAAAQAAAAAAAAABAAABAAAAAAEAAAUAAAAAAQAAAgAAAAABAAAAAAAAAAEAAAEAAAAAAQAABQAAAAABAAACAAAAAAEAAAAAAAAAAQAAAQAAAAABAAAFAAAAAAEAAAIAAAAAAQAAAAAAAAABAAABAAAAAAEAAAUAAAAAAQAAAgAAAAABAAAAAAAAAAEAAAEAAAAAAQAABQAAAAABAAACAAAAAAEAAAAAAAAAAQAAAQAAAAABAAAFAAAAAAEAAAIAAAAAAQAAAAAAAAABAAABAAAAAAEAAAUAAAAAAQAAAgAAAAABAAAAAAAAAAEAAAEAAAAAAQAABQAAAAABAAACAAAAAAEAAAAAAAAAAQAAAQAAAAABAAAFAAAAAAEAAAIAAAAAAQAAAAAAAAABAAABAAAAAAEAAAUAAAAAAQAAAgAAAAABAAAAAAAAAAEAAAEAAAAAAQAABQAAAAABAAACAAAAAAEAAAAAAAAAAQAAAQAAAAABAAAFAAAAAAEAAAIAAAAAAQAAAAAAAAABAAABAAAAAAEAAAUAAAAAAQAAAgAAAAABAAAAAAAAAAEAAAEAAAAAAQAABQAAAAABAAACAAAAAAEAAAAAAAAAAQAAAQAAAAABAAAFAAAAAAEAAAIAAAAAAQAAAAAAAAABAAABAAAAAAEAAAUAAAAAAQAAAgAAAAABAAAAAAAAAAEAAAEAAAAAAQAABQAAAAABAAACAAAAAAEAAAAAAAAAAQAAAQAAAAABAAAFAAAAAAEAAAIAAAAAAQAAAAAAAAABAAABAAAAAAEAAAUAAAAAAQAAAgAAAAABAAAAAAAAAAEAAAEAAAAAAQAABQAAAAABAAACAAAAAAEAAAAAAAAAAQAAAQAAAAABAAACAAAAAAEAAAUAAAAAAQAAAgAAAAABAAAAAAAAAAEAAAEAAAAAAQAABQAAAAABAAACAAAAAAEAAAAAAAAAAQAAAQAAAAABAAAFAAAAAAEAAAIAAAAAAQAAAAAAAAABAAABAAAAAAEAAAUAAAAAAQAAAgAAAAABAAAAAAAAAAEAAAEAAAAAAQAABQAAAAABAAACAAAAAAEAAAAAAAAAAQAAAQAAAAABAAAFAAAAAAEAAAIAAAAAAQAAAAAAAAABAAABAAAAAAEAAAUAAAAAAQAAAgAAAAABAAAAAAAAAAEAAAEAAAAAAQAABQAAAAABAAACAAAAAAEAAAAAAAAAAQAAAQAAAAABAAAFAAAAAAEAAAIAAAAAAQAAAAAAAAABAAABAAAAAAEAAAUAAAAAAQAAAgAAAAABAAAAAAAAAAEAAAEAAAAAAQAABQAAAAABAAACAAAAAAEAAAAAAAAAAQAAAQAAAAABAAAFAAAAAAEAAAIAAAAAAQAAAAAAAAABAAABAAAAAAEAAAUAAAAAAQAAAgAAAAABAAAAAAAAAAEAAAEAAAAAAQAABQAAAAABAAACAAAAAAEAAAAAAAAAAQAAAQAAAAABAAAFAAAAAAEAAAIAAAAAAQAAAAAAAAABAAABAAAAAAEAAAUAAAAAAQAAAgAAAAABAAAAAAAAAAEAAAEAAAAAAQAABQAAAAABAAACAAAAAAEAAAAAAAAAAQAAAQAAAAABAAAFAAAAAAEAAAIAAAAAAQAAAAAAAAABAAABAAAAAAEAAAIAAAAAHHN0c2MAAAAAAAAAAQAAAAEAAAH1AAAAAQAAB+hzdHN6AAAAAAAAAAAAAAH1AAAEwAAAALQAAABEAAAAIAAAACMAAABWAAAAKQAAADQAAAAVAAAARQAAADMAAACUAAAALAAAAGcAAAAfAAAAfQAAADUAAAArAAAAIQAAAHcAAAA4AAAAPAAAAB8AAABpAAAAJwAAAB4AAAApAAAAUwAAAC4AAAAhAAAAGwAAAEkAAAAqAAAALgAAAEcAAAA+AAAAHwAAAB8AAACYAAAAKwAAAB8AAAAtAAAAbwAAACYAAAAUAAAAIQAAAGcAAABTAAAAIgAAACwAAABJAAAAJgAAABwAAAAUAAAAbwAAADMAAAAlAAAAHAAAAFwAAAAhAAAAEwAAAB0AAABOAAAAJQAAAD8AAAAqAAAAHQAAAGMAAAAzAAAAIAAAACwAAABPAAAAKwAAAB4AAAAhAAAAUQAAADIAAAAlAAAAIAAAADsAAAAdAAAAHAAAABIAAABOAAAAMwAAABsAAAAfAAAAOAAAABwAAAAbAAAAEgAAAEcAAAA1AAAAHwAAACIAAAA8AAAAIQAAACQAAAASAAAAbgAAAEUAAAAdAAAAKgAAADQAAAAgAAAALQAAABoAAABZAAAAMQAAABsAAAAhAAAANgAAACcAAAAdAAAAGAAAADoAAAAiAAAAEgAAACYAAAA1AAAAMAAAAB0AAAAZAAAAOAAAACMAAAASAAAAJgAAADoAAAAiAAAAMAAAAB8AAABEAAAAJgAAABsAAAAgAAAAMwAAACwAAAAqAAAAHgAAADEAAAA4AAAAMgAAACAAAAA2AAAAHgAAACsAAAAUAAAAQgAAADYAAAAhAAAAJwAAACoAAAAeAAAALAAAABQAAAA8AAAALQAAABwAAAApAAAALQAAAB8AAAApAAAAHwAAAEsAAAAtAAAAFgAAACQAAABKAAAAIQAAACQAAAAgAAAASwAAAC0AAAAcAAAAHwAAACIAAAAlAAAAOQAAADEAAAAgAAAAGAAAAD8AAAAmAAAAHQAAACgAAAA2AAAAGgAAABIAAAAXAAAASQAAAD0AAAAjAAAAJgAAACUAAABOAAAAIgAAABIAAAAsAAAAMwAAADUAAAApAAAAJQAAAEUAAAAfAAAAEwAAABsAAABQAAAAKAAAACsAAAApAAAAQQAAACkAAAAeAAAAFAAAAEoAAAApAAAAKAAAACgAAAAuAAAAHAAAABQAAAAbAAAASAAAACgAAAAiAAAAIwAAADgAAAAeAAAAEgAAABwAAABAAAAAIgAAACcAAAAoAAAALQAAACEAAAAfAAAAFwAAAEYAAAAmAAAAJwAAAB0AAABHAAAAKQAAAB4AAAAaAAAARgAAACIAAAAlAAAAHgAAAXUAAAA6AAAAJwAAABoAAAAgAAAAPAAAACcAAAAeAAAAGAAAADUAAAAkAAAAEgAAACcAAABMAAAAJQAAAB0AAAASAAAASwAAAD0AAAAfAAAAKAAAAEAAAAAeAAAAMAAAABIAAABBAAAAMAAAABoAAAAgAAAAUgAAAC4AAAAqAAAAKQAAAEsAAAAwAAAAFwAAACEAAAA9AAAAIwAAAC0AAAAeAAAAQgAAACkAAAAbAAAAHwAAADEAAAAeAAAALAAAABQAAABUAAAAJAAAABQAAAAmAAAAOAAAAB4AAAAuAAAAGwAAADsAAAAuAAAAHgAAAB8AAAA0AAAAJgAAADkAAAAXAAAARwAAADMAAAAeAAAAKAAAADkAAAAgAAAAEgAAACMAAABHAAAALQAAACIAAAA8AAAAMwAAABwAAAASAAAAFwAAAEcAAAArAAAAHgAAAB8AAAAoAAAAHgAAABoAAAAUAAAATgAAACsAAAAeAAAAJgAAADEAAAAcAAAAFAAAABgAAABNAAAAIwAAABIAAAAhAAAAGwAAABQAAAASAAAAEgAAAEgAAAAuAAAAHwAAACQAAAA/AAAAKQAAAB4AAAAdAAAAOQAAACMAAAASAAAAJAAAAEAAAAAhAAAAHwAAABIAAAA3AAAAKQAAABsAAAAfAAAAMQAAAB4AAAAbAAAAFAAAAD0AAAAnAAAAIAAAACgAAAA4AAAAHgAAABIAAAAaAAAAUQAAACAAAAAfAAAAIQAAAE4AAAAhAAAAJgAAABIAAAA7AAAAJwAAAB4AAAAoAAAAQAAAAB4AAAASAAAAHAAAAF4AAAAkAAAAKAAAACQAAAA5AAAAHQAAABsAAAAUAAAASwAAACEAAAAoAAAALQAAADYAAAA5AAAAIQAAABsAAAA/AAAAIwAAAB0AAAAgAAAALQAAABwAAAAZAAAAFAAAAEYAAABHAAAAKwAAACcAAAASAAAAPgAAAB4AAAAcAAAAEgAAAEkAAAArAAAAKQAAABsAAAAbAAAAFAAAABIAAAASAAAAWwAAACcAAAAgAAAAFwAAADcAAAAoAAAAHgAAACoAAAA9AAAAKAAAACEAAAAbAAAAGwAAABQAAAASAAAAEgAAAEQAAAAhAAAAIAAAABIAAAAsAAAAHgAAABoAAAApAAAAQQAAADcAAAAnAAAAIAAAADkAAAAmAAAAFwAAACoAAAA+AAAAIwAAAB4AAAAWAAAAQwAAACcAAAAdAAAAHQAAAEIAAAA7AAAAHwAAAB8AAAAbAAAAFAAAABIAAAAnAAAAMQAAAB8AAAAeAAAAEgAAACkAAAAbAAAAFwAAACQAAAE/AAAAFHN0Y28AAAAAAAAAAQAAADAAAABidWR0YQAAAFptZXRhAAAAAAAAACFoZGxyAAAAAAAAAABtZGlyYXBwbAAAAAAAAAAAAAAAAC1pbHN0AAAAJal0b28AAAAdZGF0YQAAAAEAAAAATGF2ZjU4LjI5LjEwMA==\" type=\"video/mp4\" />\n",
              "             </video>"
            ]
          },
          "metadata": {}
        }
      ]
    }
  ]
}